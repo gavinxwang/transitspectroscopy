{
 "cells": [
  {
   "cell_type": "markdown",
   "id": "cefd0a25-f70c-4cae-b66f-770ac0d34368",
   "metadata": {},
   "source": [
    "![TS banner](banner.png)"
   ]
  },
  {
   "cell_type": "markdown",
   "id": "353f8eb0-3ef8-421f-839c-f7326d5ff8fb",
   "metadata": {},
   "source": [
    "# A JWST NIRSpec/MIRI eclipse as seen through `transitspectroscopy`\n",
    "**Author**: Néstor Espinoza (Assistant Astronomer; Mission Scientist for Exoplanet Science)"
   ]
  },
  {
   "cell_type": "markdown",
   "id": "f23264f4-0def-4906-844e-b12c94b858a1",
   "metadata": {},
   "source": [
    "**Last updated**: May 9th, 2024\n",
    "\n",
    "## Motivation & Data Description\n",
    "\n",
    "In this notebook, we aim to obtain a MIRI eclipse of [the exoplanet TRAPPIST-1b (PID 1177; PI Greene)](https://www.stsci.edu/jwst/science-execution/program-information?id=1177) using `transitspectroscopy`. This dataset was obtained as part of a Guaranteed Time Observations JWST program to try to detect the secondary eclipse of the planet, which was published in [Greene et al. (2023)](https://www.nature.com/articles/s41586-023-05951-7) --- here, we aim to reproduce a sort of \"step by step\" on how to reproduce those results, at least for a single eclipse.\n",
    "\n",
    "As the documentation states, `transitspectroscopy` makes use of Stage 1 of the JWST Calibration Pipeline for most of its detector-level calibration. Because of this we list below the versions of the JWST pipeline and `transitspectroscopy` we will be using:"
   ]
  },
  {
   "cell_type": "code",
   "execution_count": null,
   "id": "25ea9ef1-bf9c-48ed-ba59-459da2e1a89c",
   "metadata": {},
   "outputs": [],
   "source": [
    "import jwst\n",
    "import transitspectroscopy as ts\n",
    "\n",
    "print('JWST Calibration pipeline version:', jwst.__version__)\n",
    "print('transitspectroscopy version:', ts.__version__)"
   ]
  },
  {
   "cell_type": "markdown",
   "id": "455dd290-3d2c-4fb0-abce-c3d9cf13c142",
   "metadata": {},
   "source": [
    "And now let's load a set of helper libraries:"
   ]
  },
  {
   "cell_type": "code",
   "execution_count": null,
   "id": "e5409433-3156-476c-865e-7380684564ce",
   "metadata": {},
   "outputs": [],
   "source": [
    "import glob\n",
    "\n",
    "import numpy as np\n",
    "import matplotlib.pyplot as plt\n",
    "\n",
    "import seaborn as sns\n",
    "sns.set_style('ticks')"
   ]
  },
  {
   "cell_type": "markdown",
   "id": "7d43e0fe-ca73-4ec2-8e80-c35230944106",
   "metadata": {},
   "source": [
    "<div class=\"alert alert-block alert-info\"> <b>NOTE ON SCREAMING FACE EMOJIS (😱)</b>: In this notebook, we will use the very nice notation introduced on <a href=\"https://hastie.su.domains/ElemStatLearn/\">\"The Elements of Statistical Learning\"</a> that consider screaming faces (😱) when starting some sections. Whenever you see one, it means the section can be skipped --- the content is interesting if you want a \"deep dive\" or \"deeper knowledge\" on the topic being discussed, but it is not needed to continue the tutorial.</div>"
   ]
  },
  {
   "cell_type": "markdown",
   "id": "f51aaa06-6a17-44dd-b94c-a42f7338da4d",
   "metadata": {},
   "source": [
    "## 1. First steps: from raw data to ramps\n",
    "\n",
    "### 1.1 Downloading the data\n",
    "To start, let's download the corresponding JWST data (if you already have the data in your system, you can skip this step). `transitspectroscopy` has a neat download function that uses `astroquery` to get you the data you need. The two things one needs to get this data is **the program ID (1177)** and the **observation number (here, we use 11, which is the first eclipse that was observed)**. Let's use that to download the data:"
   ]
  },
  {
   "cell_type": "code",
   "execution_count": null,
   "id": "f9305cb2-aec4-48ef-afab-facd6ddae6a2",
   "metadata": {},
   "outputs": [],
   "source": [
    "ts.jwst.download(pid = 1177, obs_num = '11')"
   ]
  },
  {
   "cell_type": "markdown",
   "id": "e5d165f0-fc7b-4e91-a8e0-2806c43fcbf9",
   "metadata": {},
   "source": [
    "This will take a few minutes depending on your internet connection --- but totally worth the beautiful JWST data! \n",
    "\n",
    "<div class=\"alert alert-block alert-info\"> <b>Note:</b> By default, the function downloads the <code>uncal</code> data --- the uncalibrated data. This can be changed to download either ramps or rateints by using the flag <code>data_product</code> on the <code>ts.jwst.download</code> call (e.g., <code>ts.jwst.download(pid = 1177, obs_num = '11', data_product=\"rateints\")</code> will download the rates per integration; <code>data_product=\"ramps\"</code> downloads the calibrated ramps). </div>\n",
    "\n",
    "In the output above, one thing to note is that there's \"segments\" of data, with filenames names including the words `seg001`, `seg002`, etc. Those are [data segments](https://jwst-docs.stsci.edu/getting-started-with-jwst-data/understanding-jwst-data-files/jwst-data-products): the ground mechanism for processing the data segments the entire TSO dataset into little pieces so it's easier to reduce, analyze and download the data.  \n",
    "\n",
    "### 1.2 Detector-level calibration\n",
    "\n",
    "Now we have the data --- let's calibrate it! First, we perform detector-level calibration using `transitspectroscopy`. By default, the library performs the standard set of steps using STScI's [JWST Calibration Pipeline](https://jwst-pipeline.readthedocs.io/en/latest/jwst/pipeline/calwebb_detector1.html) with some modifications depending on the instrument. For this MIRI photometry data, the modification is in the jump-step: `transitspectroscopy` performs its own TSO-based jump detection algorithm by default.\n",
    "\n",
    "\n",
    "To perform this, we first need to setup a list with the names of the files that we will be reducing. The download function above automatically downloads the data to a folder called `JWSTdata` --- but of course, you can fill below wherever you stored your `uncal` files. Let's extract filenames on lists for the dataset:"
   ]
  },
  {
   "cell_type": "code",
   "execution_count": null,
   "id": "4c13284b-dc57-4084-b041-b9ec9b7b9505",
   "metadata": {},
   "outputs": [],
   "source": [
    "miri_filenames = glob.glob('JWSTdata')"
   ]
  },
  {
   "cell_type": "markdown",
   "id": "33a598df-0a17-4817-930f-88c2410d4563",
   "metadata": {},
   "source": [
    "Interesting to note: tools like `glob` don't necessarily sort the segments chronologically:"
   ]
  },
  {
   "cell_type": "code",
   "execution_count": null,
   "id": "6181fdb6-9b5d-45c4-a431-aaa06ca5628c",
   "metadata": {},
   "outputs": [],
   "source": [
    "print(miri_filenames)"
   ]
  },
  {
   "cell_type": "markdown",
   "id": "91a3940b-a6b6-4466-8094-d1a174ffc19e",
   "metadata": {},
   "source": [
    "That's OK, the next function we will use, fixes this for us. \n",
    "\n",
    "#### 1.2.1 Loading data --- applying detector-calibration\n",
    "\n",
    "The `transitspectroscopy` library for JWST data works by loading those datasets in an object; let's load it for this MIRI data; note this might also take a while, as this is a significant amount of data we are loading:"
   ]
  },
  {
   "cell_type": "code",
   "execution_count": null,
   "id": "4ca2eb5f-6ac9-40e7-a649-c37f68cd989a",
   "metadata": {},
   "outputs": [],
   "source": [
    "miri_dataset = ts.jwst.load(miri_filenames, outputfolder = 'JWSTdata')"
   ]
  },
  {
   "cell_type": "markdown",
   "id": "38108189-f05b-477c-9eb9-01daa900125a",
   "metadata": {},
   "source": [
    "This will load all the segments of data, and save any outputs in the `JWSTdata` folder (you can use any other folder, of course, to save your products!) under a new folder called `ts_outputs`. Note this sorts the filenames automatically:"
   ]
  },
  {
   "cell_type": "code",
   "execution_count": null,
   "id": "e96f68a0-ea4e-41c7-946e-f827430d0b3a",
   "metadata": {},
   "outputs": [],
   "source": [
    "miri_dataset.filenames"
   ]
  },
  {
   "cell_type": "markdown",
   "id": "8c71ba5f-5658-494b-a5e8-3d728be61727",
   "metadata": {},
   "source": [
    "All right! Let's perform some detector-level calibration. Again, this will take a while --- this functions does the heavy-lifting of calibrating the data from detector systematics, after all!"
   ]
  },
  {
   "cell_type": "code",
   "execution_count": null,
   "id": "c97318a7-7c66-43ad-abbc-8790b0db5a51",
   "metadata": {},
   "outputs": [],
   "source": [
    "miri_dataset.detector_calibration()"
   ]
  },
  {
   "cell_type": "markdown",
   "id": "6c21762d-43dd-4c04-bd82-c90ddbbafbde",
   "metadata": {},
   "source": [
    "Let's explore what happened to this `miri_dataset` object --- first, note the data properties. The `miri_dataset` has a `ramps` array which holds the calibrated ramps:"
   ]
  },
  {
   "cell_type": "code",
   "execution_count": null,
   "id": "c48db804-b86f-44b8-972f-e119d22676a2",
   "metadata": {},
   "outputs": [],
   "source": [
    "miri_dataset.ramps.shape"
   ]
  },
  {
   "cell_type": "markdown",
   "id": "ea61935e-567d-4856-a640-e38fcf371d75",
   "metadata": {},
   "source": [
    "As can be seen, all segments add up to 1139 integrations, 20 groups each --- on a 32 x 2048 pixel subarray. If for some reason you wanted the ramps for each segment, you can inspect the `ramps_per_segment` **object**, which is actually a `jwst.RampModel` per segment:"
   ]
  },
  {
   "cell_type": "code",
   "execution_count": null,
   "id": "c125347e-fbb7-483f-95bb-94ac0ec4d722",
   "metadata": {},
   "outputs": [],
   "source": [
    "len(miri_dataset.ramps_per_segment)"
   ]
  },
  {
   "cell_type": "code",
   "execution_count": null,
   "id": "ec77fe02-5f92-4a66-9b05-63973a4b86ab",
   "metadata": {},
   "outputs": [],
   "source": [
    "type(miri_dataset.ramps_per_segment[0])"
   ]
  },
  {
   "cell_type": "markdown",
   "id": "2286daa8-761e-4324-8fbf-ca854795c5fc",
   "metadata": {},
   "source": [
    "This is neat, because that one lets you access all the properties of a `RampModel` --- like the data itself, for instance:"
   ]
  },
  {
   "cell_type": "code",
   "execution_count": null,
   "id": "906ca30c-5d1a-4a17-95e6-868ca8bb85fc",
   "metadata": {},
   "outputs": [],
   "source": [
    "miri_dataset.ramps_per_segment[0].data.shape"
   ]
  },
  {
   "cell_type": "markdown",
   "id": "ebffda82-0e6a-424a-919c-e2f1c3e5e578",
   "metadata": {},
   "source": [
    "<div class=\"alert alert-block alert-info\"> <b>Note:</b> The <code>data</code> in <code>miri_dataset.ramps_per_segment[0].data</code> is actually linked with the <code>miri_dataset.ramps</code> array for all steps of the pipeline if running them via <code>transitspectroscopy</code>. That is, changing a value in the <code>ramps_per_segment</code> will also change the corresponding <code>ramps</code> array. This is very powerful, as we will see in a moment!</div>"
   ]
  },
  {
   "cell_type": "markdown",
   "id": "08d9338a-8369-493d-8f19-8336a62caf44",
   "metadata": {},
   "source": [
    "### 1.3 Fitting ramps\n",
    "\n",
    "Let's now perform ramp-fitting. This uses the ramp-fitting step from the JWST pipeline directly, and applies it to our data:"
   ]
  },
  {
   "cell_type": "code",
   "execution_count": null,
   "id": "b33fc7f0-817f-44d7-8f3a-c3bb835c2bd8",
   "metadata": {},
   "outputs": [],
   "source": [
    "miri_dataset.fit_ramps()"
   ]
  },
  {
   "cell_type": "markdown",
   "id": "718bdf49-e6f8-4b42-8abe-912851cc36d4",
   "metadata": {},
   "source": [
    "All right! The `rateints` are stored in the same object for one to explore. As expected, we have..."
   ]
  },
  {
   "cell_type": "code",
   "execution_count": null,
   "id": "6e85a150-90b9-4bdb-97c8-30dc82ef4812",
   "metadata": {},
   "outputs": [],
   "source": [
    "print(len(miri_dataset.rateints), 'rates for MIRI')"
   ]
  },
  {
   "cell_type": "markdown",
   "id": "e079bba0-e8fd-4d84-a879-f9da47924da0",
   "metadata": {},
   "source": [
    "And the rateints dimension is:"
   ]
  },
  {
   "cell_type": "code",
   "execution_count": null,
   "id": "b0eddffa-ed1d-433c-94b3-0c88f0675f50",
   "metadata": {},
   "outputs": [],
   "source": [
    "miri_dataset.rateints.shape"
   ]
  },
  {
   "cell_type": "markdown",
   "id": "97879cb1-e3c7-4276-ae12-023c7e91e863",
   "metadata": {},
   "source": [
    "What steps of the pipeline were run? You can check this with the `status`:"
   ]
  },
  {
   "cell_type": "code",
   "execution_count": null,
   "id": "0aadc245-5a33-4c22-8415-cf5dabe4e55d",
   "metadata": {},
   "outputs": [],
   "source": [
    "miri_dataset.status"
   ]
  },
  {
   "cell_type": "markdown",
   "id": "4bf7f7e5-cf60-45fa-8b23-300735da6688",
   "metadata": {},
   "source": [
    "Let's do a quick photometric exploration of this. First, let's check one of the rates:"
   ]
  },
  {
   "cell_type": "code",
   "execution_count": null,
   "id": "909c45a4-56bb-4084-b3bb-55f687637915",
   "metadata": {},
   "outputs": [],
   "source": [
    "plt.figure(figsize=(8, 6))\n",
    "\n",
    "plt.title('MIRI data; rates for integration 10')\n",
    "im = plt.imshow(miri_dataset.rateints[10, :, :], aspect = 'auto', origin = 'lower')\n",
    "im.set_clim(140,170)\n",
    "\n",
    "plt.colorbar(label = 'Counts/s')"
   ]
  },
  {
   "cell_type": "markdown",
   "id": "fe6e2ff1-c233-451d-a158-1290a6034a04",
   "metadata": {},
   "source": [
    "Let's do a close-up around TRAPPIST-1b:"
   ]
  },
  {
   "cell_type": "code",
   "execution_count": null,
   "id": "b72218bc-1c87-49e0-b801-aceafe3aa889",
   "metadata": {},
   "outputs": [],
   "source": [
    "xcen, ycen = 697, 515\n",
    "distance = 25"
   ]
  },
  {
   "cell_type": "code",
   "execution_count": null,
   "id": "e6df2996-bfd2-48af-aff3-ef521c0a3de4",
   "metadata": {},
   "outputs": [],
   "source": [
    "plt.figure(figsize=(6.5, 5))\n",
    "\n",
    "plt.title('MIRI data; rates for integration 10')\n",
    "im = plt.imshow(miri_dataset.rateints[10, :, :], aspect = 'auto', origin = 'lower')\n",
    "plt.plot([xcen],[ycen], 'o', ms = 10, mec = 'black', mfc = 'cornflowerblue')\n",
    "plt.xlim(xcen - distance, xcen + distance)\n",
    "plt.ylim(ycen - distance, ycen + distance)\n",
    "im.set_clim(140,170)\n",
    "\n",
    "plt.colorbar(label = 'Counts/s')"
   ]
  },
  {
   "cell_type": "markdown",
   "id": "4be8f5c0-566b-4702-9ff2-5ef44b5c39dc",
   "metadata": {},
   "source": [
    "Let's get a quick lightcurve:"
   ]
  },
  {
   "cell_type": "code",
   "execution_count": null,
   "id": "b798e91a-ade3-452d-8033-1ebb75ea6e9c",
   "metadata": {},
   "outputs": [],
   "source": [
    "lc0 = np.nansum( miri_dataset.rateints[:, ycen-distance:ycen+distance, xcen-distance:xcen+distance], axis = (1,2) )"
   ]
  },
  {
   "cell_type": "code",
   "execution_count": null,
   "id": "ddd0b290-c0d5-43f0-b27b-1d77f85cc575",
   "metadata": {},
   "outputs": [],
   "source": [
    "plt.figure(figsize=(8,4))\n",
    "\n",
    "plt.title('Crude MIRI lightcurve')\n",
    "\n",
    "plt.plot( lc0 / np.nanmedian(lc0[-100:]), 'o-', \n",
    "          color = 'cornflowerblue', mfc = 'white', ms = 2)\n",
    "\n",
    "plt.ylim(0.996,1.0015)\n",
    "plt.xlim(0.5, len(lc0)+0.5)\n",
    "\n",
    "plt.xlabel('Integration index', fontsize = 16)\n",
    "plt.ylabel('Relative flux', fontsize = 16)\n",
    "plt.xticks(fontsize = 12)\n",
    "plt.yticks(fontsize = 12)\n",
    "\n",
    "plt.show()"
   ]
  }
 ],
 "metadata": {
  "kernelspec": {
   "display_name": "Python 3 (ipykernel)",
   "language": "python",
   "name": "python3"
  },
  "language_info": {
   "codemirror_mode": {
    "name": "ipython",
    "version": 3
   },
   "file_extension": ".py",
   "mimetype": "text/x-python",
   "name": "python",
   "nbconvert_exporter": "python",
   "pygments_lexer": "ipython3",
   "version": "3.9.16"
  }
 },
 "nbformat": 4,
 "nbformat_minor": 5
}

{
 "cells": [
  {
   "cell_type": "markdown",
   "id": "45e54df3-68f7-4e56-b13b-64425cfd4204",
   "metadata": {},
   "source": [
    "![TS banner](banner.png)"
   ]
  },
  {
   "cell_type": "markdown",
   "id": "a8d65432-fbf2-4a60-bcdc-198e899cd8c3",
   "metadata": {},
   "source": [
    "# A Quicklook JWST NIRSpec/G395H transit of HAT-P-14b via `transitspectroscopy`\n",
    "**Author**: Néstor Espinoza (Assistant Astronomer; Mission Scientist for Exoplanet Science)\n",
    "**Last updated**: June 4th, 2024\n",
    "\n",
    "## Motivation & Data Description\n",
    "\n",
    "In this notebook, we aim to obtain a JWST NIRSpec/G395H white light lightcurve of [the exoplanet HAT-P-14~b (PID 1118; PI Proffitt)](https://www.stsci.edu/jwst/science-execution/program-information?id=1118) using `transitspectroscopy`. This dataset was obtained during JWST commissioning observations in order to study the spectrophotometric capabilities of the instrument. An initial analysis was shown in [Espinoza et al. (2023)](https://ui.adsabs.harvard.edu/abs/2023PASP..135a8002E/abstract) --- here, we aim to reproduce a sort of \"step by step\" on how to reproduce (and improve upon!) those results --- by first obtaining its \"white-light\" lightcurve.\n",
    "\n",
    "As the documentation states, `transitspectroscopy` makes use of Stage 1 of the JWST Calibration Pipeline for most of its detector-level calibration. Because of this we list below the versions of the JWST pipeline and `transitspectroscopy` we will be using:"
   ]
  },
  {
   "cell_type": "code",
   "execution_count": 1,
   "id": "9953e9ec-143b-4f29-a954-5812379b86cc",
   "metadata": {},
   "outputs": [],
   "source": [
    "import jwst\n",
    "import transitspectroscopy as ts"
   ]
  },
  {
   "cell_type": "code",
   "execution_count": 2,
   "id": "5ddcc2ed-bc51-49bb-84be-979efeeb99d1",
   "metadata": {},
   "outputs": [],
   "source": [
    "from jwst import datamodels"
   ]
  },
  {
   "cell_type": "code",
   "execution_count": 3,
   "id": "7b033530-c26c-40a1-87a2-0a0a41c4f070",
   "metadata": {},
   "outputs": [
    {
     "name": "stdout",
     "output_type": "stream",
     "text": [
      "JWST Calibration pipeline version: 1.14.0\n",
      "transitspectroscopy version: 0.4.0\n"
     ]
    }
   ],
   "source": [
    "print('JWST Calibration pipeline version:', jwst.__version__)\n",
    "print('transitspectroscopy version:', ts.__version__)"
   ]
  },
  {
   "cell_type": "code",
   "execution_count": 4,
   "id": "e306b69c-5db6-4dd9-9d03-3972ca3e12dd",
   "metadata": {},
   "outputs": [],
   "source": [
    "import glob\n",
    "\n",
    "import numpy as np\n",
    "import matplotlib.pyplot as plt\n",
    "\n",
    "import seaborn as sns\n",
    "sns.set_style('ticks')"
   ]
  },
  {
   "cell_type": "markdown",
   "id": "3115612e-e05d-4157-b9c9-1654c559cfbd",
   "metadata": {},
   "source": [
    "Below, we use the `transitspectroscopy` library to download, calibrate and perform tracing and extraction of NIRSpec/G395H data for HAT-P-14 b."
   ]
  },
  {
   "cell_type": "markdown",
   "id": "2718024c-13d6-4da2-969e-a163a895eb98",
   "metadata": {},
   "source": [
    "## 1. Data download and setup\n",
    "\n",
    "First, let's use the `transitspectroscopy` library to download the data for HAT-P-14b (https://www.stsci.edu/jwst/science-execution/program-information?id=1118):"
   ]
  },
  {
   "cell_type": "code",
   "execution_count": 5,
   "id": "bcae11fd-03b3-4950-8d9b-b849a260d0d9",
   "metadata": {},
   "outputs": [
    {
     "name": "stdout",
     "output_type": "stream",
     "text": [
      "\n",
      "\t >> 5.97 GB of data will be downloaded in total considering the following files:\n",
      "\n",
      " obsID   obs_collection dataproduct_type ... calib_level   filters   \n",
      "-------- -------------- ---------------- ... ----------- ------------\n",
      "83341588           JWST            image ...           1 F290LP;G395H\n",
      "83341589           JWST            image ...           1 F110W;MIRROR\n",
      "83341590           JWST            image ...           1 F290LP;G395H\n",
      "83341591           JWST            image ...           1 F290LP;G395H\n",
      "83341592           JWST            image ...           1 F290LP;G395H\n",
      "83341593           JWST            image ...           1 F290LP;G395H\n",
      "83341594           JWST            image ...           1 F110W;MIRROR\n",
      "83341595           JWST            image ...           1 F290LP;G395H\n",
      "\n",
      "\t >> Downloading...\n",
      "\n",
      "Downloading URL https://mast.stsci.edu/api/v0.1/Download/file?uri=mast:JWST/product/jw01118005001_02101_00001-seg001_nrs1_uncal.fits to JWSTdata/mastDownload/JWST/jw01118005001_02101_00001-seg001_nrs1/jw01118005001_02101_00001-seg001_nrs1_uncal.fits ... [Done]\n",
      "Downloading URL https://mast.stsci.edu/api/v0.1/Download/file?uri=mast:JWST/product/jw01118005001_02101_00002-seg001_nrs1_uncal.fits to JWSTdata/mastDownload/JWST/jw01118005001_02101_00002-seg001_nrs1/jw01118005001_02101_00002-seg001_nrs1_uncal.fits ... [Done]\n",
      "Downloading URL https://mast.stsci.edu/api/v0.1/Download/file?uri=mast:JWST/product/jw01118005001_04101_00001-seg001_nrs1_uncal.fits to JWSTdata/mastDownload/JWST/jw01118005001_04101_00001-seg001_nrs1/jw01118005001_04101_00001-seg001_nrs1_uncal.fits ... [Done]\n",
      "Downloading URL https://mast.stsci.edu/api/v0.1/Download/file?uri=mast:JWST/product/jw01118005001_04101_00001-seg001_nrs2_uncal.fits to JWSTdata/mastDownload/JWST/jw01118005001_04101_00001-seg001_nrs2/jw01118005001_04101_00001-seg001_nrs2_uncal.fits ... [Done]\n",
      "Downloading URL https://mast.stsci.edu/api/v0.1/Download/file?uri=mast:JWST/product/jw01118005001_04101_00001-seg002_nrs1_uncal.fits to JWSTdata/mastDownload/JWST/jw01118005001_04101_00001-seg002_nrs1/jw01118005001_04101_00001-seg002_nrs1_uncal.fits ... [Done]\n",
      "Downloading URL https://mast.stsci.edu/api/v0.1/Download/file?uri=mast:JWST/product/jw01118005001_04101_00001-seg002_nrs2_uncal.fits to JWSTdata/mastDownload/JWST/jw01118005001_04101_00001-seg002_nrs2/jw01118005001_04101_00001-seg002_nrs2_uncal.fits ... [Done]\n",
      "Downloading URL https://mast.stsci.edu/api/v0.1/Download/file?uri=mast:JWST/product/jw01118005001_04101_00001-seg003_nrs1_uncal.fits to JWSTdata/mastDownload/JWST/jw01118005001_04101_00001-seg003_nrs1/jw01118005001_04101_00001-seg003_nrs1_uncal.fits ... [Done]\n",
      "Downloading URL https://mast.stsci.edu/api/v0.1/Download/file?uri=mast:JWST/product/jw01118005001_04101_00001-seg003_nrs2_uncal.fits to JWSTdata/mastDownload/JWST/jw01118005001_04101_00001-seg003_nrs2/jw01118005001_04101_00001-seg003_nrs2_uncal.fits ... [Done]\n",
      "\n",
      "\t >> ...done! Downloaded and stored the following files on the JWSTdata folder:\n",
      "\n",
      "                                           Filename        Description  \\\n",
      "0  jw01118005001_02101_00001-seg001_nrs1_uncal.fits  BOTS Verification   \n",
      "1  jw01118005001_02101_00002-seg001_nrs1_uncal.fits  BOTS Verification   \n",
      "2  jw01118005001_04101_00001-seg001_nrs1_uncal.fits  BOTS Verification   \n",
      "3  jw01118005001_04101_00001-seg001_nrs2_uncal.fits  BOTS Verification   \n",
      "4  jw01118005001_04101_00001-seg002_nrs1_uncal.fits  BOTS Verification   \n",
      "5  jw01118005001_04101_00001-seg002_nrs2_uncal.fits  BOTS Verification   \n",
      "6  jw01118005001_04101_00001-seg003_nrs1_uncal.fits  BOTS Verification   \n",
      "7  jw01118005001_04101_00001-seg003_nrs2_uncal.fits  BOTS Verification   \n",
      "\n",
      "  Detector Grating/Pupil Subarray  Filter  Exposure type  \n",
      "0     NRS1        MIRROR    SUB32   F110W       NRS_WATA  \n",
      "1     NRS1        MIRROR    SUB32   F110W  NRS_TACONFIRM  \n",
      "2     NRS1         G395H  SUB2048  F290LP  NRS_BRIGHTOBJ  \n",
      "3     NRS2         G395H  SUB2048  F290LP  NRS_BRIGHTOBJ  \n",
      "4     NRS1         G395H  SUB2048  F290LP  NRS_BRIGHTOBJ  \n",
      "5     NRS2         G395H  SUB2048  F290LP  NRS_BRIGHTOBJ  \n",
      "6     NRS1         G395H  SUB2048  F290LP  NRS_BRIGHTOBJ  \n",
      "7     NRS2         G395H  SUB2048  F290LP  NRS_BRIGHTOBJ  \n",
      "\n",
      "\t >> Data gathered on:  2022-05-30  | PI:  Proffitt, Charles R.\n"
     ]
    }
   ],
   "source": [
    "ts.jwst.download(pid = 1118, obs_num = '5')"
   ]
  },
  {
   "cell_type": "markdown",
   "id": "2835f8d1-b1d4-4f72-a6a4-be073efed443",
   "metadata": {},
   "source": [
    "Load datasets. First, via `glob` to get filelist:"
   ]
  },
  {
   "cell_type": "code",
   "execution_count": 6,
   "id": "3e6ba134-f83d-4e7e-8ed0-cfbff3a4bc0a",
   "metadata": {},
   "outputs": [],
   "source": [
    "nrs1_filenames = glob.glob('JWSTdata/jw01118005001_04101*nrs1_uncal.fits')\n",
    "nrs2_filenames = glob.glob('JWSTdata/jw01118005001_04101*nrs2_uncal.fits')"
   ]
  },
  {
   "cell_type": "markdown",
   "id": "324d12f1-90ee-4fc3-a68c-93722f29633d",
   "metadata": {},
   "source": [
    "Then load them into `transitspectroscopy`:"
   ]
  },
  {
   "cell_type": "code",
   "execution_count": 7,
   "id": "2d631e5f-d72b-4670-8648-7e34cd654f5b",
   "metadata": {},
   "outputs": [
    {
     "name": "stdout",
     "output_type": "stream",
     "text": [
      "\t    - Instrument/Mode: NIRSpec/G395H\n",
      "\n",
      "\t    - Instrument/Mode: NIRSpec/G395H\n",
      "\n"
     ]
    }
   ],
   "source": [
    "nrs1_dataset = ts.jwst.load(nrs1_filenames, outputfolder = 'JWSTdata')\n",
    "nrs2_dataset = ts.jwst.load(nrs2_filenames, outputfolder = 'JWSTdata')"
   ]
  },
  {
   "cell_type": "markdown",
   "id": "acc50241-c2af-47eb-bf1a-30354b68b74b",
   "metadata": {},
   "source": [
    "## 2. Detector calibration and ramp fitting\n",
    "\n",
    "Let's perform detector calibration on both detectors. `transitspectroscopy` follows mostly the JWST Calibration pipeline except in the jump step --- there we do our own \"TSO\" jump-detection. First NRS1:"
   ]
  },
  {
   "cell_type": "code",
   "execution_count": 8,
   "id": "cb6dff83-6d50-465e-8876-670a874e402f",
   "metadata": {},
   "outputs": [
    {
     "name": "stdout",
     "output_type": "stream",
     "text": [
      "\t [START] Detector-level Calibration\n",
      "\n",
      "\n",
      "\t >> Processing 3 files.\n",
      "\n",
      "\t    - TSO total duration: 6.0 hours\n",
      "\t    - Calibration parameters:\n",
      "{'dq_init': {}, 'saturation': {}, 'refpix': {}, 'linearity': {'output_dir': 'JWSTdata/ts_outputs', 'save_results': True, 'suffix': 'linearitystep'}, 'dark_sub': {}, 'jump': {'window': 10, 'nsigma': 10}, 'ramp_fit': {'output_dir': 'JWSTdata/ts_outputs', 'save_results': True, 'suffix': 'ramp_fitstep'}, 'tracing': {'row_window': 1, 'column_window': 7}, 'superbias': {}, 'group_1f': {}, 'skip': {}}\n"
     ]
    },
    {
     "name": "stderr",
     "output_type": "stream",
     "text": [
      "2024-05-02 01:10:33,043 - stpipe.DQInitStep - INFO - DQInitStep instance created.\n",
      "2024-05-02 01:10:33,305 - stpipe.DQInitStep - INFO - Step DQInitStep running with args (<RampModel(561, 20, 32, 2048) from jw01118005001_04101_00001-seg001_nrs1_uncal.fits>,).\n",
      "2024-05-02 01:10:33,307 - stpipe.DQInitStep - INFO - Step DQInitStep parameters are:\n",
      "  pre_hooks: []\n",
      "  post_hooks: []\n",
      "  output_file: None\n",
      "  output_dir: None\n",
      "  output_ext: .fits\n",
      "  output_use_model: False\n",
      "  output_use_index: True\n",
      "  save_results: False\n",
      "  skip: False\n",
      "  suffix: None\n",
      "  search_output_file: True\n",
      "  input_dir: ''\n",
      "2024-05-02 01:10:33,338 - stpipe.DQInitStep - INFO - Using MASK reference file /grp/crds/cache/references/jwst/jwst_nirspec_mask_0051.fits\n",
      "2024-05-02 01:10:36,445 - stpipe.DQInitStep - INFO - Extracting mask subarray to match science data\n",
      "2024-05-02 01:10:38,014 - stpipe.DQInitStep - INFO - Results used CRDS context: jwst_1228.pmap\n",
      "2024-05-02 01:10:38,015 - stpipe.DQInitStep - INFO - Step DQInitStep done\n",
      "2024-05-02 01:10:38,044 - stpipe.DQInitStep - INFO - DQInitStep instance created.\n",
      "2024-05-02 01:10:38,197 - stpipe.DQInitStep - INFO - Step DQInitStep running with args (<RampModel(561, 20, 32, 2048) from jw01118005001_04101_00001-seg002_nrs1_uncal.fits>,).\n",
      "2024-05-02 01:10:38,199 - stpipe.DQInitStep - INFO - Step DQInitStep parameters are:\n",
      "  pre_hooks: []\n",
      "  post_hooks: []\n",
      "  output_file: None\n",
      "  output_dir: None\n",
      "  output_ext: .fits\n",
      "  output_use_model: False\n",
      "  output_use_index: True\n",
      "  save_results: False\n",
      "  skip: False\n",
      "  suffix: None\n",
      "  search_output_file: True\n",
      "  input_dir: ''\n",
      "2024-05-02 01:10:38,220 - stpipe.DQInitStep - INFO - Using MASK reference file /grp/crds/cache/references/jwst/jwst_nirspec_mask_0051.fits\n",
      "2024-05-02 01:10:40,948 - stpipe.DQInitStep - INFO - Extracting mask subarray to match science data\n",
      "2024-05-02 01:10:42,474 - stpipe.DQInitStep - INFO - Results used CRDS context: jwst_1228.pmap\n",
      "2024-05-02 01:10:42,475 - stpipe.DQInitStep - INFO - Step DQInitStep done\n",
      "2024-05-02 01:10:42,502 - stpipe.DQInitStep - INFO - DQInitStep instance created.\n",
      "2024-05-02 01:10:42,629 - stpipe.DQInitStep - INFO - Step DQInitStep running with args (<RampModel(17, 20, 32, 2048) from jw01118005001_04101_00001-seg003_nrs1_uncal.fits>,).\n",
      "2024-05-02 01:10:42,631 - stpipe.DQInitStep - INFO - Step DQInitStep parameters are:\n",
      "  pre_hooks: []\n",
      "  post_hooks: []\n",
      "  output_file: None\n",
      "  output_dir: None\n",
      "  output_ext: .fits\n",
      "  output_use_model: False\n",
      "  output_use_index: True\n",
      "  save_results: False\n",
      "  skip: False\n",
      "  suffix: None\n",
      "  search_output_file: True\n",
      "  input_dir: ''\n",
      "2024-05-02 01:10:42,650 - stpipe.DQInitStep - INFO - Using MASK reference file /grp/crds/cache/references/jwst/jwst_nirspec_mask_0051.fits\n",
      "2024-05-02 01:10:42,827 - stpipe.DQInitStep - INFO - Extracting mask subarray to match science data\n",
      "2024-05-02 01:10:42,885 - stpipe.DQInitStep - INFO - Results used CRDS context: jwst_1228.pmap\n",
      "2024-05-02 01:10:42,886 - stpipe.DQInitStep - INFO - Step DQInitStep done\n",
      "2024-05-02 01:10:42,900 - stpipe.SaturationStep - INFO - SaturationStep instance created.\n",
      "2024-05-02 01:10:43,027 - stpipe.SaturationStep - INFO - Step SaturationStep running with args (<RampModel(561, 20, 32, 2048) from jw01118005001_04101_00001-seg001_nrs1_uncal.fits>,).\n",
      "2024-05-02 01:10:43,029 - stpipe.SaturationStep - INFO - Step SaturationStep parameters are:\n",
      "  pre_hooks: []\n",
      "  post_hooks: []\n",
      "  output_file: None\n",
      "  output_dir: None\n",
      "  output_ext: .fits\n",
      "  output_use_model: False\n",
      "  output_use_index: True\n",
      "  save_results: False\n",
      "  skip: False\n",
      "  suffix: None\n",
      "  search_output_file: True\n",
      "  input_dir: ''\n",
      "  n_pix_grow_sat: 1\n",
      "2024-05-02 01:10:43,050 - stpipe.SaturationStep - INFO - Using SATURATION reference file /grp/crds/cache/references/jwst/jwst_nirspec_saturation_0028.fits\n",
      "2024-05-02 01:10:45,930 - stpipe.SaturationStep - INFO - Extracting reference file subarray to match science data\n",
      "2024-05-02 01:11:07,430 - stpipe.SaturationStep - INFO - Detected 730 saturated pixels\n",
      "2024-05-02 01:11:07,794 - stpipe.SaturationStep - INFO - Detected 0 A/D floor pixels\n",
      "2024-05-02 01:11:07,800 - stpipe.SaturationStep - INFO - Results used CRDS context: jwst_1228.pmap\n",
      "2024-05-02 01:11:07,801 - stpipe.SaturationStep - INFO - Step SaturationStep done\n",
      "2024-05-02 01:11:07,838 - stpipe.SaturationStep - INFO - SaturationStep instance created.\n",
      "2024-05-02 01:11:08,007 - stpipe.SaturationStep - INFO - Step SaturationStep running with args (<RampModel(561, 20, 32, 2048) from jw01118005001_04101_00001-seg002_nrs1_uncal.fits>,).\n",
      "2024-05-02 01:11:08,009 - stpipe.SaturationStep - INFO - Step SaturationStep parameters are:\n",
      "  pre_hooks: []\n",
      "  post_hooks: []\n",
      "  output_file: None\n",
      "  output_dir: None\n",
      "  output_ext: .fits\n",
      "  output_use_model: False\n",
      "  output_use_index: True\n",
      "  save_results: False\n",
      "  skip: False\n",
      "  suffix: None\n",
      "  search_output_file: True\n",
      "  input_dir: ''\n",
      "  n_pix_grow_sat: 1\n",
      "2024-05-02 01:11:08,030 - stpipe.SaturationStep - INFO - Using SATURATION reference file /grp/crds/cache/references/jwst/jwst_nirspec_saturation_0028.fits\n",
      "2024-05-02 01:11:10,692 - stpipe.SaturationStep - INFO - Extracting reference file subarray to match science data\n",
      "2024-05-02 01:11:32,060 - stpipe.SaturationStep - INFO - Detected 647 saturated pixels\n",
      "2024-05-02 01:11:32,427 - stpipe.SaturationStep - INFO - Detected 0 A/D floor pixels\n",
      "2024-05-02 01:11:32,434 - stpipe.SaturationStep - INFO - Results used CRDS context: jwst_1228.pmap\n",
      "2024-05-02 01:11:32,435 - stpipe.SaturationStep - INFO - Step SaturationStep done\n",
      "2024-05-02 01:11:32,469 - stpipe.SaturationStep - INFO - SaturationStep instance created.\n",
      "2024-05-02 01:11:32,636 - stpipe.SaturationStep - INFO - Step SaturationStep running with args (<RampModel(17, 20, 32, 2048) from jw01118005001_04101_00001-seg003_nrs1_uncal.fits>,).\n",
      "2024-05-02 01:11:32,639 - stpipe.SaturationStep - INFO - Step SaturationStep parameters are:\n",
      "  pre_hooks: []\n",
      "  post_hooks: []\n",
      "  output_file: None\n",
      "  output_dir: None\n",
      "  output_ext: .fits\n",
      "  output_use_model: False\n",
      "  output_use_index: True\n",
      "  save_results: False\n",
      "  skip: False\n",
      "  suffix: None\n",
      "  search_output_file: True\n",
      "  input_dir: ''\n",
      "  n_pix_grow_sat: 1\n",
      "2024-05-02 01:11:32,659 - stpipe.SaturationStep - INFO - Using SATURATION reference file /grp/crds/cache/references/jwst/jwst_nirspec_saturation_0028.fits\n",
      "2024-05-02 01:11:32,781 - stpipe.SaturationStep - INFO - Extracting reference file subarray to match science data\n",
      "2024-05-02 01:11:33,437 - stpipe.SaturationStep - INFO - Detected 36 saturated pixels\n",
      "2024-05-02 01:11:33,444 - stpipe.SaturationStep - INFO - Detected 0 A/D floor pixels\n",
      "2024-05-02 01:11:33,449 - stpipe.SaturationStep - INFO - Results used CRDS context: jwst_1228.pmap\n",
      "2024-05-02 01:11:33,450 - stpipe.SaturationStep - INFO - Step SaturationStep done\n",
      "2024-05-02 01:11:33,463 - stpipe.SuperBiasStep - INFO - SuperBiasStep instance created.\n",
      "2024-05-02 01:11:33,587 - stpipe.SuperBiasStep - INFO - Step SuperBiasStep running with args (<RampModel(561, 20, 32, 2048) from jw01118005001_04101_00001-seg001_nrs1_uncal.fits>,).\n",
      "2024-05-02 01:11:33,590 - stpipe.SuperBiasStep - INFO - Step SuperBiasStep parameters are:\n",
      "  pre_hooks: []\n",
      "  post_hooks: []\n",
      "  output_file: None\n",
      "  output_dir: None\n",
      "  output_ext: .fits\n",
      "  output_use_model: False\n",
      "  output_use_index: True\n",
      "  save_results: False\n",
      "  skip: False\n",
      "  suffix: None\n",
      "  search_output_file: True\n",
      "  input_dir: ''\n",
      "2024-05-02 01:11:33,614 - stpipe.SuperBiasStep - INFO - Using SUPERBIAS reference file /grp/crds/cache/references/jwst/jwst_nirspec_superbias_0348.fits\n",
      "2024-05-02 01:11:36,851 - stpipe.SuperBiasStep - INFO - Results used CRDS context: jwst_1228.pmap\n",
      "2024-05-02 01:11:36,858 - stpipe.SuperBiasStep - INFO - Step SuperBiasStep done\n",
      "2024-05-02 01:11:36,892 - stpipe.SuperBiasStep - INFO - SuperBiasStep instance created.\n",
      "2024-05-02 01:11:37,062 - stpipe.SuperBiasStep - INFO - Step SuperBiasStep running with args (<RampModel(561, 20, 32, 2048) from jw01118005001_04101_00001-seg002_nrs1_uncal.fits>,).\n",
      "2024-05-02 01:11:37,064 - stpipe.SuperBiasStep - INFO - Step SuperBiasStep parameters are:\n",
      "  pre_hooks: []\n",
      "  post_hooks: []\n",
      "  output_file: None\n",
      "  output_dir: None\n",
      "  output_ext: .fits\n",
      "  output_use_model: False\n",
      "  output_use_index: True\n",
      "  save_results: False\n",
      "  skip: False\n",
      "  suffix: None\n",
      "  search_output_file: True\n",
      "  input_dir: ''\n",
      "2024-05-02 01:11:37,083 - stpipe.SuperBiasStep - INFO - Using SUPERBIAS reference file /grp/crds/cache/references/jwst/jwst_nirspec_superbias_0348.fits\n",
      "2024-05-02 01:11:40,290 - stpipe.SuperBiasStep - INFO - Results used CRDS context: jwst_1228.pmap\n",
      "2024-05-02 01:11:40,291 - stpipe.SuperBiasStep - INFO - Step SuperBiasStep done\n",
      "2024-05-02 01:11:40,321 - stpipe.SuperBiasStep - INFO - SuperBiasStep instance created.\n",
      "2024-05-02 01:11:40,446 - stpipe.SuperBiasStep - INFO - Step SuperBiasStep running with args (<RampModel(17, 20, 32, 2048) from jw01118005001_04101_00001-seg003_nrs1_uncal.fits>,).\n",
      "2024-05-02 01:11:40,448 - stpipe.SuperBiasStep - INFO - Step SuperBiasStep parameters are:\n",
      "  pre_hooks: []\n",
      "  post_hooks: []\n",
      "  output_file: None\n",
      "  output_dir: None\n",
      "  output_ext: .fits\n",
      "  output_use_model: False\n",
      "  output_use_index: True\n",
      "  save_results: False\n",
      "  skip: False\n",
      "  suffix: None\n",
      "  search_output_file: True\n",
      "  input_dir: ''\n",
      "2024-05-02 01:11:40,469 - stpipe.SuperBiasStep - INFO - Using SUPERBIAS reference file /grp/crds/cache/references/jwst/jwst_nirspec_superbias_0348.fits\n",
      "2024-05-02 01:11:40,603 - stpipe.SuperBiasStep - INFO - Results used CRDS context: jwst_1228.pmap\n",
      "2024-05-02 01:11:40,604 - stpipe.SuperBiasStep - INFO - Step SuperBiasStep done\n",
      "2024-05-02 01:11:40,617 - stpipe.RefPixStep - INFO - RefPixStep instance created.\n",
      "2024-05-02 01:11:40,742 - stpipe.RefPixStep - INFO - Step RefPixStep running with args (<RampModel(561, 20, 32, 2048) from jw01118005001_04101_00001-seg001_nrs1_uncal.fits>,).\n",
      "2024-05-02 01:11:40,745 - stpipe.RefPixStep - INFO - Step RefPixStep parameters are:\n",
      "  pre_hooks: []\n",
      "  post_hooks: []\n",
      "  output_file: None\n",
      "  output_dir: None\n",
      "  output_ext: .fits\n",
      "  output_use_model: False\n",
      "  output_use_index: True\n",
      "  save_results: False\n",
      "  skip: False\n",
      "  suffix: None\n",
      "  search_output_file: True\n",
      "  input_dir: ''\n",
      "  odd_even_columns: True\n",
      "  use_side_ref_pixels: True\n",
      "  side_smoothing_length: 11\n",
      "  side_gain: 1.0\n",
      "  odd_even_rows: True\n",
      "  ovr_corr_mitigation_ftr: 3.0\n",
      "  preserve_irs2_refpix: False\n",
      "  irs2_mean_subtraction: False\n",
      "2024-05-02 01:11:43,363 - stpipe.RefPixStep - INFO - NIR subarray data\n",
      "2024-05-02 01:11:43,369 - stpipe.RefPixStep - INFO - Single readout amplifier used\n",
      "2024-05-02 01:11:43,370 - stpipe.RefPixStep - INFO - The following parameter is valid for this mode:\n",
      "2024-05-02 01:11:43,371 - stpipe.RefPixStep - INFO - odd_even_columns = True\n",
      "2024-05-02 01:11:43,372 - stpipe.RefPixStep - INFO - The following parameters are not applicable and are ignored:\n",
      "2024-05-02 01:11:43,373 - stpipe.RefPixStep - INFO - use_side_ref_pixels = True\n",
      "2024-05-02 01:11:43,374 - stpipe.RefPixStep - INFO - side_smoothing_length = 11\n",
      "2024-05-02 01:11:43,374 - stpipe.RefPixStep - INFO - side_gain = 1.0\n",
      "2024-05-02 01:11:43,375 - stpipe.RefPixStep - INFO - odd_even_rows = False\n",
      "2024-05-02 01:12:15,766 - stpipe.RefPixStep - INFO - Step RefPixStep done\n",
      "2024-05-02 01:12:15,801 - stpipe.RefPixStep - INFO - RefPixStep instance created.\n",
      "2024-05-02 01:12:15,970 - stpipe.RefPixStep - INFO - Step RefPixStep running with args (<RampModel(561, 20, 32, 2048) from jw01118005001_04101_00001-seg002_nrs1_uncal.fits>,).\n",
      "2024-05-02 01:12:15,973 - stpipe.RefPixStep - INFO - Step RefPixStep parameters are:\n",
      "  pre_hooks: []\n",
      "  post_hooks: []\n",
      "  output_file: None\n",
      "  output_dir: None\n",
      "  output_ext: .fits\n",
      "  output_use_model: False\n",
      "  output_use_index: True\n",
      "  save_results: False\n",
      "  skip: False\n",
      "  suffix: None\n",
      "  search_output_file: True\n",
      "  input_dir: ''\n",
      "  odd_even_columns: True\n",
      "  use_side_ref_pixels: True\n",
      "  side_smoothing_length: 11\n",
      "  side_gain: 1.0\n",
      "  odd_even_rows: True\n",
      "  ovr_corr_mitigation_ftr: 3.0\n",
      "  preserve_irs2_refpix: False\n",
      "  irs2_mean_subtraction: False\n",
      "2024-05-02 01:12:18,614 - stpipe.RefPixStep - INFO - NIR subarray data\n",
      "2024-05-02 01:12:18,619 - stpipe.RefPixStep - INFO - Single readout amplifier used\n",
      "2024-05-02 01:12:18,620 - stpipe.RefPixStep - INFO - The following parameter is valid for this mode:\n",
      "2024-05-02 01:12:18,621 - stpipe.RefPixStep - INFO - odd_even_columns = True\n",
      "2024-05-02 01:12:18,622 - stpipe.RefPixStep - INFO - The following parameters are not applicable and are ignored:\n",
      "2024-05-02 01:12:18,623 - stpipe.RefPixStep - INFO - use_side_ref_pixels = True\n",
      "2024-05-02 01:12:18,623 - stpipe.RefPixStep - INFO - side_smoothing_length = 11\n",
      "2024-05-02 01:12:18,624 - stpipe.RefPixStep - INFO - side_gain = 1.0\n",
      "2024-05-02 01:12:18,625 - stpipe.RefPixStep - INFO - odd_even_rows = False\n",
      "2024-05-02 01:12:50,577 - stpipe.RefPixStep - INFO - Step RefPixStep done\n",
      "2024-05-02 01:12:50,611 - stpipe.RefPixStep - INFO - RefPixStep instance created.\n",
      "2024-05-02 01:12:50,782 - stpipe.RefPixStep - INFO - Step RefPixStep running with args (<RampModel(17, 20, 32, 2048) from jw01118005001_04101_00001-seg003_nrs1_uncal.fits>,).\n",
      "2024-05-02 01:12:50,784 - stpipe.RefPixStep - INFO - Step RefPixStep parameters are:\n",
      "  pre_hooks: []\n",
      "  post_hooks: []\n",
      "  output_file: None\n",
      "  output_dir: None\n",
      "  output_ext: .fits\n",
      "  output_use_model: False\n",
      "  output_use_index: True\n",
      "  save_results: False\n",
      "  skip: False\n",
      "  suffix: None\n",
      "  search_output_file: True\n",
      "  input_dir: ''\n",
      "  odd_even_columns: True\n",
      "  use_side_ref_pixels: True\n",
      "  side_smoothing_length: 11\n",
      "  side_gain: 1.0\n",
      "  odd_even_rows: True\n",
      "  ovr_corr_mitigation_ftr: 3.0\n",
      "  preserve_irs2_refpix: False\n",
      "  irs2_mean_subtraction: False\n",
      "2024-05-02 01:12:50,885 - stpipe.RefPixStep - INFO - NIR subarray data\n",
      "2024-05-02 01:12:50,890 - stpipe.RefPixStep - INFO - Single readout amplifier used\n",
      "2024-05-02 01:12:50,891 - stpipe.RefPixStep - INFO - The following parameter is valid for this mode:\n",
      "2024-05-02 01:12:50,892 - stpipe.RefPixStep - INFO - odd_even_columns = True\n",
      "2024-05-02 01:12:50,893 - stpipe.RefPixStep - INFO - The following parameters are not applicable and are ignored:\n",
      "2024-05-02 01:12:50,894 - stpipe.RefPixStep - INFO - use_side_ref_pixels = True\n",
      "2024-05-02 01:12:50,895 - stpipe.RefPixStep - INFO - side_smoothing_length = 11\n",
      "2024-05-02 01:12:50,895 - stpipe.RefPixStep - INFO - side_gain = 1.0\n",
      "2024-05-02 01:12:50,896 - stpipe.RefPixStep - INFO - odd_even_rows = False\n",
      "2024-05-02 01:12:52,095 - stpipe.RefPixStep - INFO - Step RefPixStep done\n",
      "2024-05-02 01:12:52,110 - stpipe.LinearityStep - INFO - LinearityStep instance created.\n",
      "2024-05-02 01:12:52,237 - stpipe.LinearityStep - INFO - Step LinearityStep running with args (<RampModel(561, 20, 32, 2048) from jw01118005001_04101_00001-seg001_nrs1_uncal.fits>,).\n",
      "2024-05-02 01:12:52,240 - stpipe.LinearityStep - INFO - Step LinearityStep parameters are:\n",
      "  pre_hooks: []\n",
      "  post_hooks: []\n",
      "  output_file: None\n",
      "  output_dir: JWSTdata/ts_outputs\n",
      "  output_ext: .fits\n",
      "  output_use_model: False\n",
      "  output_use_index: True\n",
      "  save_results: True\n",
      "  skip: False\n",
      "  suffix: linearitystep\n",
      "  search_output_file: True\n",
      "  input_dir: ''\n",
      "2024-05-02 01:12:52,265 - stpipe.LinearityStep - INFO - Using Linearity reference file /grp/crds/cache/references/jwst/jwst_nirspec_linearity_0024.fits\n",
      "2024-05-02 01:12:52,381 - stpipe.LinearityStep - WARNING - Keyword BAD_LIN_CORR does not correspond to an existing DQ mnemonic, so will be ignored\n",
      "2024-05-02 01:12:59,451 - stpipe.LinearityStep - INFO - Results used CRDS context: jwst_1228.pmap\n",
      "2024-05-02 01:13:32,578 - stpipe.LinearityStep - INFO - Saved model in JWSTdata/ts_outputs/jw01118005001_04101_00001-seg001_nrs1_linearitystep.fits\n",
      "2024-05-02 01:13:32,579 - stpipe.LinearityStep - INFO - Step LinearityStep done\n",
      "2024-05-02 01:13:32,626 - stpipe.LinearityStep - INFO - LinearityStep instance created.\n",
      "2024-05-02 01:13:32,871 - stpipe.LinearityStep - INFO - Step LinearityStep running with args (<RampModel(561, 20, 32, 2048) from jw01118005001_04101_00001-seg002_nrs1_uncal.fits>,).\n",
      "2024-05-02 01:13:32,874 - stpipe.LinearityStep - INFO - Step LinearityStep parameters are:\n",
      "  pre_hooks: []\n",
      "  post_hooks: []\n",
      "  output_file: None\n",
      "  output_dir: JWSTdata/ts_outputs\n",
      "  output_ext: .fits\n",
      "  output_use_model: False\n",
      "  output_use_index: True\n",
      "  save_results: True\n",
      "  skip: False\n",
      "  suffix: linearitystep\n",
      "  search_output_file: True\n",
      "  input_dir: ''\n",
      "2024-05-02 01:13:32,895 - stpipe.LinearityStep - INFO - Using Linearity reference file /grp/crds/cache/references/jwst/jwst_nirspec_linearity_0024.fits\n",
      "2024-05-02 01:13:32,925 - stpipe.LinearityStep - WARNING - Keyword BAD_LIN_CORR does not correspond to an existing DQ mnemonic, so will be ignored\n",
      "2024-05-02 01:13:40,839 - stpipe.LinearityStep - INFO - Results used CRDS context: jwst_1228.pmap\n",
      "2024-05-02 01:14:03,818 - stpipe.LinearityStep - INFO - Saved model in JWSTdata/ts_outputs/jw01118005001_04101_00001-seg002_nrs1_linearitystep.fits\n",
      "2024-05-02 01:14:03,822 - stpipe.LinearityStep - INFO - Step LinearityStep done\n",
      "2024-05-02 01:14:03,867 - stpipe.LinearityStep - INFO - LinearityStep instance created.\n",
      "2024-05-02 01:14:04,066 - stpipe.LinearityStep - INFO - Step LinearityStep running with args (<RampModel(17, 20, 32, 2048) from jw01118005001_04101_00001-seg003_nrs1_uncal.fits>,).\n",
      "2024-05-02 01:14:04,069 - stpipe.LinearityStep - INFO - Step LinearityStep parameters are:\n",
      "  pre_hooks: []\n",
      "  post_hooks: []\n",
      "  output_file: None\n",
      "  output_dir: JWSTdata/ts_outputs\n",
      "  output_ext: .fits\n",
      "  output_use_model: False\n",
      "  output_use_index: True\n",
      "  save_results: True\n",
      "  skip: False\n",
      "  suffix: linearitystep\n",
      "  search_output_file: True\n",
      "  input_dir: ''\n",
      "2024-05-02 01:14:04,092 - stpipe.LinearityStep - INFO - Using Linearity reference file /grp/crds/cache/references/jwst/jwst_nirspec_linearity_0024.fits\n",
      "2024-05-02 01:14:04,129 - stpipe.LinearityStep - WARNING - Keyword BAD_LIN_CORR does not correspond to an existing DQ mnemonic, so will be ignored\n",
      "2024-05-02 01:14:04,379 - stpipe.LinearityStep - INFO - Results used CRDS context: jwst_1228.pmap\n",
      "2024-05-02 01:14:05,892 - stpipe.LinearityStep - INFO - Saved model in JWSTdata/ts_outputs/jw01118005001_04101_00001-seg003_nrs1_linearitystep.fits\n",
      "2024-05-02 01:14:05,894 - stpipe.LinearityStep - INFO - Step LinearityStep done\n"
     ]
    },
    {
     "name": "stdout",
     "output_type": "stream",
     "text": [
      "\t >> Performing TSO-jump...\n",
      "\n",
      "\t >> ...done! Saving...\n",
      "\n",
      "\t [END] Detector-level Calibration\n",
      "\n",
      "\n"
     ]
    }
   ],
   "source": [
    "nrs1_dataset.detector_calibration()"
   ]
  },
  {
   "cell_type": "markdown",
   "id": "abdb1082-07a1-4c52-9a9e-db6ed7c253c1",
   "metadata": {},
   "source": [
    "Now NRS2:"
   ]
  },
  {
   "cell_type": "code",
   "execution_count": 9,
   "id": "ce433add-de0b-4991-81a7-a354857a6d78",
   "metadata": {},
   "outputs": [
    {
     "name": "stderr",
     "output_type": "stream",
     "text": [
      "2024-05-02 01:24:29,376 - stpipe.DQInitStep - INFO - DQInitStep instance created.\n"
     ]
    },
    {
     "name": "stdout",
     "output_type": "stream",
     "text": [
      "\t [START] Detector-level Calibration\n",
      "\n",
      "\n",
      "\t >> Processing 3 files.\n",
      "\n",
      "\t    - TSO total duration: 6.0 hours\n",
      "\t    - Calibration parameters:\n",
      "{'dq_init': {}, 'saturation': {}, 'refpix': {}, 'linearity': {'output_dir': 'JWSTdata/ts_outputs', 'save_results': True, 'suffix': 'linearitystep'}, 'dark_sub': {}, 'jump': {'window': 10, 'nsigma': 10}, 'ramp_fit': {'output_dir': 'JWSTdata/ts_outputs', 'save_results': True, 'suffix': 'ramp_fitstep'}, 'tracing': {'row_window': 1, 'column_window': 7}, 'superbias': {}, 'group_1f': {}, 'skip': {}}\n"
     ]
    },
    {
     "name": "stderr",
     "output_type": "stream",
     "text": [
      "2024-05-02 01:24:29,614 - stpipe.DQInitStep - INFO - Step DQInitStep running with args (<RampModel(561, 20, 32, 2048) from jw01118005001_04101_00001-seg001_nrs2_uncal.fits>,).\n",
      "2024-05-02 01:24:29,617 - stpipe.DQInitStep - INFO - Step DQInitStep parameters are:\n",
      "  pre_hooks: []\n",
      "  post_hooks: []\n",
      "  output_file: None\n",
      "  output_dir: None\n",
      "  output_ext: .fits\n",
      "  output_use_model: False\n",
      "  output_use_index: True\n",
      "  save_results: False\n",
      "  skip: False\n",
      "  suffix: None\n",
      "  search_output_file: True\n",
      "  input_dir: ''\n",
      "2024-05-02 01:24:29,641 - stpipe.DQInitStep - INFO - Using MASK reference file /grp/crds/cache/references/jwst/jwst_nirspec_mask_0049.fits\n",
      "2024-05-02 01:24:32,492 - stpipe.DQInitStep - INFO - Extracting mask subarray to match science data\n",
      "2024-05-02 01:24:33,995 - stpipe.DQInitStep - INFO - Results used CRDS context: jwst_1228.pmap\n",
      "2024-05-02 01:24:33,998 - stpipe.DQInitStep - INFO - Step DQInitStep done\n",
      "2024-05-02 01:24:34,033 - stpipe.DQInitStep - INFO - DQInitStep instance created.\n",
      "2024-05-02 01:24:34,310 - stpipe.DQInitStep - INFO - Step DQInitStep running with args (<RampModel(561, 20, 32, 2048) from jw01118005001_04101_00001-seg002_nrs2_uncal.fits>,).\n",
      "2024-05-02 01:24:34,312 - stpipe.DQInitStep - INFO - Step DQInitStep parameters are:\n",
      "  pre_hooks: []\n",
      "  post_hooks: []\n",
      "  output_file: None\n",
      "  output_dir: None\n",
      "  output_ext: .fits\n",
      "  output_use_model: False\n",
      "  output_use_index: True\n",
      "  save_results: False\n",
      "  skip: False\n",
      "  suffix: None\n",
      "  search_output_file: True\n",
      "  input_dir: ''\n",
      "2024-05-02 01:24:34,331 - stpipe.DQInitStep - INFO - Using MASK reference file /grp/crds/cache/references/jwst/jwst_nirspec_mask_0049.fits\n",
      "2024-05-02 01:24:37,079 - stpipe.DQInitStep - INFO - Extracting mask subarray to match science data\n",
      "2024-05-02 01:24:38,584 - stpipe.DQInitStep - INFO - Results used CRDS context: jwst_1228.pmap\n",
      "2024-05-02 01:24:38,585 - stpipe.DQInitStep - INFO - Step DQInitStep done\n",
      "2024-05-02 01:24:38,613 - stpipe.DQInitStep - INFO - DQInitStep instance created.\n",
      "2024-05-02 01:24:38,741 - stpipe.DQInitStep - INFO - Step DQInitStep running with args (<RampModel(17, 20, 32, 2048) from jw01118005001_04101_00001-seg003_nrs2_uncal.fits>,).\n",
      "2024-05-02 01:24:38,743 - stpipe.DQInitStep - INFO - Step DQInitStep parameters are:\n",
      "  pre_hooks: []\n",
      "  post_hooks: []\n",
      "  output_file: None\n",
      "  output_dir: None\n",
      "  output_ext: .fits\n",
      "  output_use_model: False\n",
      "  output_use_index: True\n",
      "  save_results: False\n",
      "  skip: False\n",
      "  suffix: None\n",
      "  search_output_file: True\n",
      "  input_dir: ''\n",
      "2024-05-02 01:24:38,763 - stpipe.DQInitStep - INFO - Using MASK reference file /grp/crds/cache/references/jwst/jwst_nirspec_mask_0049.fits\n",
      "2024-05-02 01:24:38,935 - stpipe.DQInitStep - INFO - Extracting mask subarray to match science data\n",
      "2024-05-02 01:24:38,992 - stpipe.DQInitStep - INFO - Results used CRDS context: jwst_1228.pmap\n",
      "2024-05-02 01:24:38,993 - stpipe.DQInitStep - INFO - Step DQInitStep done\n",
      "2024-05-02 01:24:39,006 - stpipe.SaturationStep - INFO - SaturationStep instance created.\n",
      "2024-05-02 01:24:39,132 - stpipe.SaturationStep - INFO - Step SaturationStep running with args (<RampModel(561, 20, 32, 2048) from jw01118005001_04101_00001-seg001_nrs2_uncal.fits>,).\n",
      "2024-05-02 01:24:39,134 - stpipe.SaturationStep - INFO - Step SaturationStep parameters are:\n",
      "  pre_hooks: []\n",
      "  post_hooks: []\n",
      "  output_file: None\n",
      "  output_dir: None\n",
      "  output_ext: .fits\n",
      "  output_use_model: False\n",
      "  output_use_index: True\n",
      "  save_results: False\n",
      "  skip: False\n",
      "  suffix: None\n",
      "  search_output_file: True\n",
      "  input_dir: ''\n",
      "  n_pix_grow_sat: 1\n",
      "2024-05-02 01:24:39,154 - stpipe.SaturationStep - INFO - Using SATURATION reference file /grp/crds/cache/references/jwst/jwst_nirspec_saturation_0029.fits\n",
      "2024-05-02 01:24:41,829 - stpipe.SaturationStep - INFO - Extracting reference file subarray to match science data\n",
      "2024-05-02 01:25:03,409 - stpipe.SaturationStep - INFO - Detected 1153 saturated pixels\n",
      "2024-05-02 01:25:03,799 - stpipe.SaturationStep - INFO - Detected 0 A/D floor pixels\n",
      "2024-05-02 01:25:03,803 - stpipe.SaturationStep - INFO - Results used CRDS context: jwst_1228.pmap\n",
      "2024-05-02 01:25:03,804 - stpipe.SaturationStep - INFO - Step SaturationStep done\n",
      "2024-05-02 01:25:03,834 - stpipe.SaturationStep - INFO - SaturationStep instance created.\n",
      "2024-05-02 01:25:03,960 - stpipe.SaturationStep - INFO - Step SaturationStep running with args (<RampModel(561, 20, 32, 2048) from jw01118005001_04101_00001-seg002_nrs2_uncal.fits>,).\n",
      "2024-05-02 01:25:03,962 - stpipe.SaturationStep - INFO - Step SaturationStep parameters are:\n",
      "  pre_hooks: []\n",
      "  post_hooks: []\n",
      "  output_file: None\n",
      "  output_dir: None\n",
      "  output_ext: .fits\n",
      "  output_use_model: False\n",
      "  output_use_index: True\n",
      "  save_results: False\n",
      "  skip: False\n",
      "  suffix: None\n",
      "  search_output_file: True\n",
      "  input_dir: ''\n",
      "  n_pix_grow_sat: 1\n",
      "2024-05-02 01:25:03,982 - stpipe.SaturationStep - INFO - Using SATURATION reference file /grp/crds/cache/references/jwst/jwst_nirspec_saturation_0029.fits\n",
      "2024-05-02 01:25:06,652 - stpipe.SaturationStep - INFO - Extracting reference file subarray to match science data\n",
      "2024-05-02 01:25:28,424 - stpipe.SaturationStep - INFO - Detected 1230 saturated pixels\n",
      "2024-05-02 01:25:28,817 - stpipe.SaturationStep - INFO - Detected 1 A/D floor pixels\n",
      "2024-05-02 01:25:28,824 - stpipe.SaturationStep - INFO - Results used CRDS context: jwst_1228.pmap\n",
      "2024-05-02 01:25:28,825 - stpipe.SaturationStep - INFO - Step SaturationStep done\n",
      "2024-05-02 01:25:28,859 - stpipe.SaturationStep - INFO - SaturationStep instance created.\n",
      "2024-05-02 01:25:29,027 - stpipe.SaturationStep - INFO - Step SaturationStep running with args (<RampModel(17, 20, 32, 2048) from jw01118005001_04101_00001-seg003_nrs2_uncal.fits>,).\n",
      "2024-05-02 01:25:29,029 - stpipe.SaturationStep - INFO - Step SaturationStep parameters are:\n",
      "  pre_hooks: []\n",
      "  post_hooks: []\n",
      "  output_file: None\n",
      "  output_dir: None\n",
      "  output_ext: .fits\n",
      "  output_use_model: False\n",
      "  output_use_index: True\n",
      "  save_results: False\n",
      "  skip: False\n",
      "  suffix: None\n",
      "  search_output_file: True\n",
      "  input_dir: ''\n",
      "  n_pix_grow_sat: 1\n",
      "2024-05-02 01:25:29,049 - stpipe.SaturationStep - INFO - Using SATURATION reference file /grp/crds/cache/references/jwst/jwst_nirspec_saturation_0029.fits\n",
      "2024-05-02 01:25:29,167 - stpipe.SaturationStep - INFO - Extracting reference file subarray to match science data\n",
      "2024-05-02 01:25:29,829 - stpipe.SaturationStep - INFO - Detected 243 saturated pixels\n",
      "2024-05-02 01:25:29,838 - stpipe.SaturationStep - INFO - Detected 0 A/D floor pixels\n",
      "2024-05-02 01:25:29,842 - stpipe.SaturationStep - INFO - Results used CRDS context: jwst_1228.pmap\n",
      "2024-05-02 01:25:29,843 - stpipe.SaturationStep - INFO - Step SaturationStep done\n",
      "2024-05-02 01:25:29,856 - stpipe.SuperBiasStep - INFO - SuperBiasStep instance created.\n",
      "2024-05-02 01:25:29,982 - stpipe.SuperBiasStep - INFO - Step SuperBiasStep running with args (<RampModel(561, 20, 32, 2048) from jw01118005001_04101_00001-seg001_nrs2_uncal.fits>,).\n",
      "2024-05-02 01:25:29,984 - stpipe.SuperBiasStep - INFO - Step SuperBiasStep parameters are:\n",
      "  pre_hooks: []\n",
      "  post_hooks: []\n",
      "  output_file: None\n",
      "  output_dir: None\n",
      "  output_ext: .fits\n",
      "  output_use_model: False\n",
      "  output_use_index: True\n",
      "  save_results: False\n",
      "  skip: False\n",
      "  suffix: None\n",
      "  search_output_file: True\n",
      "  input_dir: ''\n",
      "2024-05-02 01:25:30,007 - stpipe.SuperBiasStep - INFO - Using SUPERBIAS reference file /grp/crds/cache/references/jwst/jwst_nirspec_superbias_0424.fits\n",
      "2024-05-02 01:25:33,278 - stpipe.SuperBiasStep - INFO - Results used CRDS context: jwst_1228.pmap\n",
      "2024-05-02 01:25:33,279 - stpipe.SuperBiasStep - INFO - Step SuperBiasStep done\n",
      "2024-05-02 01:25:33,309 - stpipe.SuperBiasStep - INFO - SuperBiasStep instance created.\n",
      "2024-05-02 01:25:33,435 - stpipe.SuperBiasStep - INFO - Step SuperBiasStep running with args (<RampModel(561, 20, 32, 2048) from jw01118005001_04101_00001-seg002_nrs2_uncal.fits>,).\n",
      "2024-05-02 01:25:33,437 - stpipe.SuperBiasStep - INFO - Step SuperBiasStep parameters are:\n",
      "  pre_hooks: []\n",
      "  post_hooks: []\n",
      "  output_file: None\n",
      "  output_dir: None\n",
      "  output_ext: .fits\n",
      "  output_use_model: False\n",
      "  output_use_index: True\n",
      "  save_results: False\n",
      "  skip: False\n",
      "  suffix: None\n",
      "  search_output_file: True\n",
      "  input_dir: ''\n",
      "2024-05-02 01:25:33,456 - stpipe.SuperBiasStep - INFO - Using SUPERBIAS reference file /grp/crds/cache/references/jwst/jwst_nirspec_superbias_0424.fits\n",
      "2024-05-02 01:25:36,716 - stpipe.SuperBiasStep - INFO - Results used CRDS context: jwst_1228.pmap\n",
      "2024-05-02 01:25:36,719 - stpipe.SuperBiasStep - INFO - Step SuperBiasStep done\n",
      "2024-05-02 01:25:36,751 - stpipe.SuperBiasStep - INFO - SuperBiasStep instance created.\n",
      "2024-05-02 01:25:36,927 - stpipe.SuperBiasStep - INFO - Step SuperBiasStep running with args (<RampModel(17, 20, 32, 2048) from jw01118005001_04101_00001-seg003_nrs2_uncal.fits>,).\n",
      "2024-05-02 01:25:36,929 - stpipe.SuperBiasStep - INFO - Step SuperBiasStep parameters are:\n",
      "  pre_hooks: []\n",
      "  post_hooks: []\n",
      "  output_file: None\n",
      "  output_dir: None\n",
      "  output_ext: .fits\n",
      "  output_use_model: False\n",
      "  output_use_index: True\n",
      "  save_results: False\n",
      "  skip: False\n",
      "  suffix: None\n",
      "  search_output_file: True\n",
      "  input_dir: ''\n",
      "2024-05-02 01:25:36,949 - stpipe.SuperBiasStep - INFO - Using SUPERBIAS reference file /grp/crds/cache/references/jwst/jwst_nirspec_superbias_0424.fits\n",
      "2024-05-02 01:25:37,085 - stpipe.SuperBiasStep - INFO - Results used CRDS context: jwst_1228.pmap\n",
      "2024-05-02 01:25:37,086 - stpipe.SuperBiasStep - INFO - Step SuperBiasStep done\n",
      "2024-05-02 01:25:37,099 - stpipe.RefPixStep - INFO - RefPixStep instance created.\n",
      "2024-05-02 01:25:37,226 - stpipe.RefPixStep - INFO - Step RefPixStep running with args (<RampModel(561, 20, 32, 2048) from jw01118005001_04101_00001-seg001_nrs2_uncal.fits>,).\n",
      "2024-05-02 01:25:37,229 - stpipe.RefPixStep - INFO - Step RefPixStep parameters are:\n",
      "  pre_hooks: []\n",
      "  post_hooks: []\n",
      "  output_file: None\n",
      "  output_dir: None\n",
      "  output_ext: .fits\n",
      "  output_use_model: False\n",
      "  output_use_index: True\n",
      "  save_results: False\n",
      "  skip: False\n",
      "  suffix: None\n",
      "  search_output_file: True\n",
      "  input_dir: ''\n",
      "  odd_even_columns: True\n",
      "  use_side_ref_pixels: True\n",
      "  side_smoothing_length: 11\n",
      "  side_gain: 1.0\n",
      "  odd_even_rows: True\n",
      "  ovr_corr_mitigation_ftr: 3.0\n",
      "  preserve_irs2_refpix: False\n",
      "  irs2_mean_subtraction: False\n",
      "2024-05-02 01:25:39,913 - stpipe.RefPixStep - INFO - NIR subarray data\n",
      "2024-05-02 01:25:39,919 - stpipe.RefPixStep - INFO - Single readout amplifier used\n",
      "2024-05-02 01:25:39,919 - stpipe.RefPixStep - INFO - The following parameter is valid for this mode:\n",
      "2024-05-02 01:25:39,920 - stpipe.RefPixStep - INFO - odd_even_columns = True\n",
      "2024-05-02 01:25:39,921 - stpipe.RefPixStep - INFO - The following parameters are not applicable and are ignored:\n",
      "2024-05-02 01:25:39,921 - stpipe.RefPixStep - INFO - use_side_ref_pixels = True\n",
      "2024-05-02 01:25:39,922 - stpipe.RefPixStep - INFO - side_smoothing_length = 11\n",
      "2024-05-02 01:25:39,922 - stpipe.RefPixStep - INFO - side_gain = 1.0\n",
      "2024-05-02 01:25:39,923 - stpipe.RefPixStep - INFO - odd_even_rows = False\n",
      "2024-05-02 01:26:14,197 - stpipe.RefPixStep - INFO - Step RefPixStep done\n",
      "2024-05-02 01:26:14,233 - stpipe.RefPixStep - INFO - RefPixStep instance created.\n",
      "2024-05-02 01:26:14,404 - stpipe.RefPixStep - INFO - Step RefPixStep running with args (<RampModel(561, 20, 32, 2048) from jw01118005001_04101_00001-seg002_nrs2_uncal.fits>,).\n",
      "2024-05-02 01:26:14,406 - stpipe.RefPixStep - INFO - Step RefPixStep parameters are:\n",
      "  pre_hooks: []\n",
      "  post_hooks: []\n",
      "  output_file: None\n",
      "  output_dir: None\n",
      "  output_ext: .fits\n",
      "  output_use_model: False\n",
      "  output_use_index: True\n",
      "  save_results: False\n",
      "  skip: False\n",
      "  suffix: None\n",
      "  search_output_file: True\n",
      "  input_dir: ''\n",
      "  odd_even_columns: True\n",
      "  use_side_ref_pixels: True\n",
      "  side_smoothing_length: 11\n",
      "  side_gain: 1.0\n",
      "  odd_even_rows: True\n",
      "  ovr_corr_mitigation_ftr: 3.0\n",
      "  preserve_irs2_refpix: False\n",
      "  irs2_mean_subtraction: False\n",
      "2024-05-02 01:26:17,105 - stpipe.RefPixStep - INFO - NIR subarray data\n",
      "2024-05-02 01:26:17,111 - stpipe.RefPixStep - INFO - Single readout amplifier used\n",
      "2024-05-02 01:26:17,112 - stpipe.RefPixStep - INFO - The following parameter is valid for this mode:\n",
      "2024-05-02 01:26:17,112 - stpipe.RefPixStep - INFO - odd_even_columns = True\n",
      "2024-05-02 01:26:17,113 - stpipe.RefPixStep - INFO - The following parameters are not applicable and are ignored:\n",
      "2024-05-02 01:26:17,114 - stpipe.RefPixStep - INFO - use_side_ref_pixels = True\n",
      "2024-05-02 01:26:17,114 - stpipe.RefPixStep - INFO - side_smoothing_length = 11\n",
      "2024-05-02 01:26:17,115 - stpipe.RefPixStep - INFO - side_gain = 1.0\n",
      "2024-05-02 01:26:17,115 - stpipe.RefPixStep - INFO - odd_even_rows = False\n",
      "2024-05-02 01:26:50,901 - stpipe.RefPixStep - INFO - Step RefPixStep done\n",
      "2024-05-02 01:26:50,936 - stpipe.RefPixStep - INFO - RefPixStep instance created.\n",
      "2024-05-02 01:26:51,106 - stpipe.RefPixStep - INFO - Step RefPixStep running with args (<RampModel(17, 20, 32, 2048) from jw01118005001_04101_00001-seg003_nrs2_uncal.fits>,).\n",
      "2024-05-02 01:26:51,108 - stpipe.RefPixStep - INFO - Step RefPixStep parameters are:\n",
      "  pre_hooks: []\n",
      "  post_hooks: []\n",
      "  output_file: None\n",
      "  output_dir: None\n",
      "  output_ext: .fits\n",
      "  output_use_model: False\n",
      "  output_use_index: True\n",
      "  save_results: False\n",
      "  skip: False\n",
      "  suffix: None\n",
      "  search_output_file: True\n",
      "  input_dir: ''\n",
      "  odd_even_columns: True\n",
      "  use_side_ref_pixels: True\n",
      "  side_smoothing_length: 11\n",
      "  side_gain: 1.0\n",
      "  odd_even_rows: True\n",
      "  ovr_corr_mitigation_ftr: 3.0\n",
      "  preserve_irs2_refpix: False\n",
      "  irs2_mean_subtraction: False\n",
      "2024-05-02 01:26:51,212 - stpipe.RefPixStep - INFO - NIR subarray data\n",
      "2024-05-02 01:26:51,218 - stpipe.RefPixStep - INFO - Single readout amplifier used\n",
      "2024-05-02 01:26:51,219 - stpipe.RefPixStep - INFO - The following parameter is valid for this mode:\n",
      "2024-05-02 01:26:51,219 - stpipe.RefPixStep - INFO - odd_even_columns = True\n",
      "2024-05-02 01:26:51,220 - stpipe.RefPixStep - INFO - The following parameters are not applicable and are ignored:\n",
      "2024-05-02 01:26:51,220 - stpipe.RefPixStep - INFO - use_side_ref_pixels = True\n",
      "2024-05-02 01:26:51,221 - stpipe.RefPixStep - INFO - side_smoothing_length = 11\n",
      "2024-05-02 01:26:51,222 - stpipe.RefPixStep - INFO - side_gain = 1.0\n",
      "2024-05-02 01:26:51,222 - stpipe.RefPixStep - INFO - odd_even_rows = False\n",
      "2024-05-02 01:26:52,446 - stpipe.RefPixStep - INFO - Step RefPixStep done\n",
      "2024-05-02 01:26:52,461 - stpipe.LinearityStep - INFO - LinearityStep instance created.\n",
      "2024-05-02 01:26:52,589 - stpipe.LinearityStep - INFO - Step LinearityStep running with args (<RampModel(561, 20, 32, 2048) from jw01118005001_04101_00001-seg001_nrs2_uncal.fits>,).\n",
      "2024-05-02 01:26:52,591 - stpipe.LinearityStep - INFO - Step LinearityStep parameters are:\n",
      "  pre_hooks: []\n",
      "  post_hooks: []\n",
      "  output_file: None\n",
      "  output_dir: JWSTdata/ts_outputs\n",
      "  output_ext: .fits\n",
      "  output_use_model: False\n",
      "  output_use_index: True\n",
      "  save_results: True\n",
      "  skip: False\n",
      "  suffix: linearitystep\n",
      "  search_output_file: True\n",
      "  input_dir: ''\n",
      "2024-05-02 01:26:52,614 - stpipe.LinearityStep - INFO - Using Linearity reference file /grp/crds/cache/references/jwst/jwst_nirspec_linearity_0023.fits\n",
      "2024-05-02 01:26:52,675 - stpipe.LinearityStep - WARNING - Keyword BAD_LIN_CORR does not correspond to an existing DQ mnemonic, so will be ignored\n",
      "2024-05-02 01:27:00,235 - stpipe.LinearityStep - INFO - Results used CRDS context: jwst_1228.pmap\n",
      "2024-05-02 01:27:56,015 - stpipe.LinearityStep - INFO - Saved model in JWSTdata/ts_outputs/jw01118005001_04101_00001-seg001_nrs2_linearitystep.fits\n",
      "2024-05-02 01:27:56,016 - stpipe.LinearityStep - INFO - Step LinearityStep done\n",
      "2024-05-02 01:27:56,053 - stpipe.LinearityStep - INFO - LinearityStep instance created.\n",
      "2024-05-02 01:27:56,220 - stpipe.LinearityStep - INFO - Step LinearityStep running with args (<RampModel(561, 20, 32, 2048) from jw01118005001_04101_00001-seg002_nrs2_uncal.fits>,).\n",
      "2024-05-02 01:27:56,222 - stpipe.LinearityStep - INFO - Step LinearityStep parameters are:\n",
      "  pre_hooks: []\n",
      "  post_hooks: []\n",
      "  output_file: None\n",
      "  output_dir: JWSTdata/ts_outputs\n",
      "  output_ext: .fits\n",
      "  output_use_model: False\n",
      "  output_use_index: True\n",
      "  save_results: True\n",
      "  skip: False\n",
      "  suffix: linearitystep\n",
      "  search_output_file: True\n",
      "  input_dir: ''\n",
      "2024-05-02 01:27:56,244 - stpipe.LinearityStep - INFO - Using Linearity reference file /grp/crds/cache/references/jwst/jwst_nirspec_linearity_0023.fits\n",
      "2024-05-02 01:27:56,269 - stpipe.LinearityStep - WARNING - Keyword BAD_LIN_CORR does not correspond to an existing DQ mnemonic, so will be ignored\n",
      "2024-05-02 01:28:03,654 - stpipe.LinearityStep - INFO - Results used CRDS context: jwst_1228.pmap\n",
      "2024-05-02 01:28:27,343 - stpipe.LinearityStep - INFO - Saved model in JWSTdata/ts_outputs/jw01118005001_04101_00001-seg002_nrs2_linearitystep.fits\n",
      "2024-05-02 01:28:27,344 - stpipe.LinearityStep - INFO - Step LinearityStep done\n",
      "2024-05-02 01:28:27,376 - stpipe.LinearityStep - INFO - LinearityStep instance created.\n",
      "2024-05-02 01:28:27,504 - stpipe.LinearityStep - INFO - Step LinearityStep running with args (<RampModel(17, 20, 32, 2048) from jw01118005001_04101_00001-seg003_nrs2_uncal.fits>,).\n",
      "2024-05-02 01:28:27,506 - stpipe.LinearityStep - INFO - Step LinearityStep parameters are:\n",
      "  pre_hooks: []\n",
      "  post_hooks: []\n",
      "  output_file: None\n",
      "  output_dir: JWSTdata/ts_outputs\n",
      "  output_ext: .fits\n",
      "  output_use_model: False\n",
      "  output_use_index: True\n",
      "  save_results: True\n",
      "  skip: False\n",
      "  suffix: linearitystep\n",
      "  search_output_file: True\n",
      "  input_dir: ''\n",
      "2024-05-02 01:28:27,526 - stpipe.LinearityStep - INFO - Using Linearity reference file /grp/crds/cache/references/jwst/jwst_nirspec_linearity_0023.fits\n",
      "2024-05-02 01:28:27,550 - stpipe.LinearityStep - WARNING - Keyword BAD_LIN_CORR does not correspond to an existing DQ mnemonic, so will be ignored\n",
      "2024-05-02 01:28:27,800 - stpipe.LinearityStep - INFO - Results used CRDS context: jwst_1228.pmap\n",
      "2024-05-02 01:28:30,913 - stpipe.LinearityStep - INFO - Saved model in JWSTdata/ts_outputs/jw01118005001_04101_00001-seg003_nrs2_linearitystep.fits\n",
      "2024-05-02 01:28:30,915 - stpipe.LinearityStep - INFO - Step LinearityStep done\n"
     ]
    },
    {
     "name": "stdout",
     "output_type": "stream",
     "text": [
      "\t >> Performing TSO-jump...\n",
      "\n",
      "\t >> ...done! Saving...\n",
      "\n",
      "\t [END] Detector-level Calibration\n",
      "\n",
      "\n"
     ]
    }
   ],
   "source": [
    "nrs2_dataset.detector_calibration()"
   ]
  },
  {
   "cell_type": "markdown",
   "id": "ff607a1c-0668-4bfa-a020-afac2aee2c32",
   "metadata": {},
   "source": [
    "Fit ramps:"
   ]
  },
  {
   "cell_type": "code",
   "execution_count": 12,
   "id": "5bb7734f-ac97-44d6-a53a-da3f1351210c",
   "metadata": {},
   "outputs": [
    {
     "name": "stderr",
     "output_type": "stream",
     "text": [
      "2024-05-02 07:29:19,302 - stpipe.RampFitStep - INFO - RampFitStep instance created.\n",
      "2024-05-02 07:29:19,467 - stpipe.RampFitStep - INFO - Step RampFitStep running with args (<RampModel(561, 20, 32, 2048) from jw01118005001_04101_00001-seg001_nrs1_tsojumpstep.fits>,).\n",
      "2024-05-02 07:29:19,469 - stpipe.RampFitStep - INFO - Step RampFitStep parameters are:\n",
      "  pre_hooks: []\n",
      "  post_hooks: []\n",
      "  output_file: None\n",
      "  output_dir: JWSTdata/ts_outputs\n",
      "  output_ext: .fits\n",
      "  output_use_model: False\n",
      "  output_use_index: True\n",
      "  save_results: True\n",
      "  skip: False\n",
      "  suffix: ramp_fitstep\n",
      "  search_output_file: True\n",
      "  input_dir: ''\n",
      "  int_name: ''\n",
      "  save_opt: False\n",
      "  opt_name: ''\n",
      "  suppress_one_group: True\n",
      "  maximum_cores: '1'\n"
     ]
    },
    {
     "name": "stdout",
     "output_type": "stream",
     "text": [
      "\t >> Performing Rampfit step...\n",
      "\n"
     ]
    },
    {
     "name": "stderr",
     "output_type": "stream",
     "text": [
      "2024-05-02 07:29:19,542 - stpipe.RampFitStep - INFO - Using READNOISE reference file: /grp/crds/cache/references/jwst/jwst_nirspec_readnoise_0043.fits\n",
      "2024-05-02 07:29:19,543 - stpipe.RampFitStep - INFO - Using GAIN reference file: /grp/crds/cache/references/jwst/jwst_nirspec_gain_0025.fits\n",
      "2024-05-02 07:29:19,608 - stpipe.RampFitStep - INFO - Extracting gain subarray to match science data\n",
      "2024-05-02 07:29:19,609 - stpipe.RampFitStep - INFO - Extracting readnoise subarray to match science data\n",
      "2024-05-02 07:29:19,610 - stpipe.RampFitStep - INFO - Using algorithm = ols\n",
      "2024-05-02 07:29:19,611 - stpipe.RampFitStep - INFO - Using weighting = optimal\n",
      "2024-05-02 07:51:01,692 - stpipe.RampFitStep - INFO - Number of groups per integration: 20\n",
      "2024-05-02 07:51:01,695 - stpipe.RampFitStep - INFO - Number of integrations: 561\n",
      "2024-05-02 07:51:06,959 - stpipe.RampFitStep - INFO - Results used CRDS context: jwst_1228.pmap\n",
      "2024-05-02 07:51:06,961 - stpipe.RampFitStep - INFO - Results used CRDS context: jwst_1228.pmap\n",
      "2024-05-02 07:51:07,121 - stpipe.RampFitStep - INFO - Saved model in JWSTdata/ts_outputs/jw01118005001_04101_00001-seg001_nrs1_tsojumpstep_0_ramp_fitstep.fits\n",
      "2024-05-02 07:51:11,473 - stpipe.RampFitStep - INFO - Saved model in JWSTdata/ts_outputs/jw01118005001_04101_00001-seg001_nrs1_tsojumpstep_1_ramp_fitstep.fits\n",
      "2024-05-02 07:51:11,479 - stpipe.RampFitStep - INFO - Step RampFitStep done\n",
      "2024-05-02 07:51:11,504 - stpipe.RampFitStep - INFO - RampFitStep instance created.\n",
      "2024-05-02 07:51:11,738 - stpipe.RampFitStep - INFO - Step RampFitStep running with args (<RampModel(561, 20, 32, 2048) from jw01118005001_04101_00001-seg002_nrs1_tsojumpstep.fits>,).\n",
      "2024-05-02 07:51:11,741 - stpipe.RampFitStep - INFO - Step RampFitStep parameters are:\n",
      "  pre_hooks: []\n",
      "  post_hooks: []\n",
      "  output_file: None\n",
      "  output_dir: JWSTdata/ts_outputs\n",
      "  output_ext: .fits\n",
      "  output_use_model: False\n",
      "  output_use_index: True\n",
      "  save_results: True\n",
      "  skip: False\n",
      "  suffix: ramp_fitstep\n",
      "  search_output_file: True\n",
      "  input_dir: ''\n",
      "  int_name: ''\n",
      "  save_opt: False\n",
      "  opt_name: ''\n",
      "  suppress_one_group: True\n",
      "  maximum_cores: '1'\n",
      "2024-05-02 07:51:11,773 - stpipe.RampFitStep - INFO - Using READNOISE reference file: /grp/crds/cache/references/jwst/jwst_nirspec_readnoise_0043.fits\n",
      "2024-05-02 07:51:11,774 - stpipe.RampFitStep - INFO - Using GAIN reference file: /grp/crds/cache/references/jwst/jwst_nirspec_gain_0025.fits\n",
      "2024-05-02 07:51:11,837 - stpipe.RampFitStep - INFO - Extracting gain subarray to match science data\n",
      "2024-05-02 07:51:11,839 - stpipe.RampFitStep - INFO - Extracting readnoise subarray to match science data\n",
      "2024-05-02 07:51:11,840 - stpipe.RampFitStep - INFO - Using algorithm = ols\n",
      "2024-05-02 07:51:11,841 - stpipe.RampFitStep - INFO - Using weighting = optimal\n",
      "2024-05-02 08:10:25,301 - stpipe.RampFitStep - INFO - Number of groups per integration: 20\n",
      "2024-05-02 08:10:25,304 - stpipe.RampFitStep - INFO - Number of integrations: 561\n",
      "2024-05-02 08:10:29,882 - stpipe.RampFitStep - INFO - Results used CRDS context: jwst_1228.pmap\n",
      "2024-05-02 08:10:29,885 - stpipe.RampFitStep - INFO - Results used CRDS context: jwst_1228.pmap\n",
      "2024-05-02 08:10:30,049 - stpipe.RampFitStep - INFO - Saved model in JWSTdata/ts_outputs/jw01118005001_04101_00001-seg002_nrs1_tsojumpstep_0_ramp_fitstep.fits\n",
      "2024-05-02 08:10:35,933 - stpipe.RampFitStep - INFO - Saved model in JWSTdata/ts_outputs/jw01118005001_04101_00001-seg002_nrs1_tsojumpstep_1_ramp_fitstep.fits\n",
      "2024-05-02 08:10:35,934 - stpipe.RampFitStep - INFO - Step RampFitStep done\n",
      "2024-05-02 08:10:35,952 - stpipe.RampFitStep - INFO - RampFitStep instance created.\n",
      "2024-05-02 08:10:36,193 - stpipe.RampFitStep - INFO - Step RampFitStep running with args (<RampModel(17, 20, 32, 2048) from jw01118005001_04101_00001-seg003_nrs1_tsojumpstep.fits>,).\n",
      "2024-05-02 08:10:36,195 - stpipe.RampFitStep - INFO - Step RampFitStep parameters are:\n",
      "  pre_hooks: []\n",
      "  post_hooks: []\n",
      "  output_file: None\n",
      "  output_dir: JWSTdata/ts_outputs\n",
      "  output_ext: .fits\n",
      "  output_use_model: False\n",
      "  output_use_index: True\n",
      "  save_results: True\n",
      "  skip: False\n",
      "  suffix: ramp_fitstep\n",
      "  search_output_file: True\n",
      "  input_dir: ''\n",
      "  int_name: ''\n",
      "  save_opt: False\n",
      "  opt_name: ''\n",
      "  suppress_one_group: True\n",
      "  maximum_cores: '1'\n",
      "2024-05-02 08:10:36,231 - stpipe.RampFitStep - INFO - Using READNOISE reference file: /grp/crds/cache/references/jwst/jwst_nirspec_readnoise_0043.fits\n",
      "2024-05-02 08:10:36,232 - stpipe.RampFitStep - INFO - Using GAIN reference file: /grp/crds/cache/references/jwst/jwst_nirspec_gain_0025.fits\n",
      "2024-05-02 08:10:36,280 - stpipe.RampFitStep - INFO - Extracting gain subarray to match science data\n",
      "2024-05-02 08:10:36,281 - stpipe.RampFitStep - INFO - Extracting readnoise subarray to match science data\n",
      "2024-05-02 08:10:36,282 - stpipe.RampFitStep - INFO - Using algorithm = ols\n",
      "2024-05-02 08:10:36,282 - stpipe.RampFitStep - INFO - Using weighting = optimal\n",
      "2024-05-02 08:10:46,603 - stpipe.RampFitStep - INFO - Number of groups per integration: 20\n",
      "2024-05-02 08:10:46,606 - stpipe.RampFitStep - INFO - Number of integrations: 17\n",
      "2024-05-02 08:10:46,787 - stpipe.RampFitStep - INFO - Results used CRDS context: jwst_1228.pmap\n",
      "2024-05-02 08:10:46,789 - stpipe.RampFitStep - INFO - Results used CRDS context: jwst_1228.pmap\n",
      "2024-05-02 08:10:46,964 - stpipe.RampFitStep - INFO - Saved model in JWSTdata/ts_outputs/jw01118005001_04101_00001-seg003_nrs1_tsojumpstep_0_ramp_fitstep.fits\n",
      "2024-05-02 08:10:47,562 - stpipe.RampFitStep - INFO - Saved model in JWSTdata/ts_outputs/jw01118005001_04101_00001-seg003_nrs1_tsojumpstep_1_ramp_fitstep.fits\n",
      "2024-05-02 08:10:47,563 - stpipe.RampFitStep - INFO - Step RampFitStep done\n",
      "2024-05-02 08:10:47,994 - stpipe.RampFitStep - INFO - RampFitStep instance created.\n",
      "2024-05-02 08:10:48,159 - stpipe.RampFitStep - INFO - Step RampFitStep running with args (<RampModel(561, 20, 32, 2048) from jw01118005001_04101_00001-seg001_nrs2_tsojumpstep.fits>,).\n",
      "2024-05-02 08:10:48,161 - stpipe.RampFitStep - INFO - Step RampFitStep parameters are:\n",
      "  pre_hooks: []\n",
      "  post_hooks: []\n",
      "  output_file: None\n",
      "  output_dir: JWSTdata/ts_outputs\n",
      "  output_ext: .fits\n",
      "  output_use_model: False\n",
      "  output_use_index: True\n",
      "  save_results: True\n",
      "  skip: False\n",
      "  suffix: ramp_fitstep\n",
      "  search_output_file: True\n",
      "  input_dir: ''\n",
      "  int_name: ''\n",
      "  save_opt: False\n",
      "  opt_name: ''\n",
      "  suppress_one_group: True\n",
      "  maximum_cores: '1'\n"
     ]
    },
    {
     "name": "stdout",
     "output_type": "stream",
     "text": [
      "\t >> Performing Rampfit step...\n",
      "\n"
     ]
    },
    {
     "name": "stderr",
     "output_type": "stream",
     "text": [
      "2024-05-02 08:10:48,250 - stpipe.RampFitStep - INFO - Using READNOISE reference file: /grp/crds/cache/references/jwst/jwst_nirspec_readnoise_0048.fits\n",
      "2024-05-02 08:10:48,251 - stpipe.RampFitStep - INFO - Using GAIN reference file: /grp/crds/cache/references/jwst/jwst_nirspec_gain_0027.fits\n",
      "2024-05-02 08:10:48,341 - stpipe.RampFitStep - INFO - Extracting gain subarray to match science data\n",
      "2024-05-02 08:10:48,343 - stpipe.RampFitStep - INFO - Extracting readnoise subarray to match science data\n",
      "2024-05-02 08:10:48,344 - stpipe.RampFitStep - INFO - Using algorithm = ols\n",
      "2024-05-02 08:10:48,345 - stpipe.RampFitStep - INFO - Using weighting = optimal\n",
      "2024-05-02 08:31:11,836 - stpipe.RampFitStep - INFO - Number of groups per integration: 20\n",
      "2024-05-02 08:31:11,839 - stpipe.RampFitStep - INFO - Number of integrations: 561\n",
      "2024-05-02 08:31:16,542 - stpipe.RampFitStep - INFO - Results used CRDS context: jwst_1228.pmap\n",
      "2024-05-02 08:31:16,545 - stpipe.RampFitStep - INFO - Results used CRDS context: jwst_1228.pmap\n",
      "2024-05-02 08:31:16,643 - stpipe.RampFitStep - INFO - Saved model in JWSTdata/ts_outputs/jw01118005001_04101_00001-seg001_nrs2_tsojumpstep_0_ramp_fitstep.fits\n",
      "2024-05-02 08:31:21,393 - stpipe.RampFitStep - INFO - Saved model in JWSTdata/ts_outputs/jw01118005001_04101_00001-seg001_nrs2_tsojumpstep_1_ramp_fitstep.fits\n",
      "2024-05-02 08:31:21,395 - stpipe.RampFitStep - INFO - Step RampFitStep done\n",
      "2024-05-02 08:31:21,411 - stpipe.RampFitStep - INFO - RampFitStep instance created.\n",
      "2024-05-02 08:31:21,655 - stpipe.RampFitStep - INFO - Step RampFitStep running with args (<RampModel(561, 20, 32, 2048) from jw01118005001_04101_00001-seg002_nrs2_tsojumpstep.fits>,).\n",
      "2024-05-02 08:31:21,658 - stpipe.RampFitStep - INFO - Step RampFitStep parameters are:\n",
      "  pre_hooks: []\n",
      "  post_hooks: []\n",
      "  output_file: None\n",
      "  output_dir: JWSTdata/ts_outputs\n",
      "  output_ext: .fits\n",
      "  output_use_model: False\n",
      "  output_use_index: True\n",
      "  save_results: True\n",
      "  skip: False\n",
      "  suffix: ramp_fitstep\n",
      "  search_output_file: True\n",
      "  input_dir: ''\n",
      "  int_name: ''\n",
      "  save_opt: False\n",
      "  opt_name: ''\n",
      "  suppress_one_group: True\n",
      "  maximum_cores: '1'\n",
      "2024-05-02 08:31:21,691 - stpipe.RampFitStep - INFO - Using READNOISE reference file: /grp/crds/cache/references/jwst/jwst_nirspec_readnoise_0048.fits\n",
      "2024-05-02 08:31:21,692 - stpipe.RampFitStep - INFO - Using GAIN reference file: /grp/crds/cache/references/jwst/jwst_nirspec_gain_0027.fits\n",
      "2024-05-02 08:31:21,739 - stpipe.RampFitStep - INFO - Extracting gain subarray to match science data\n",
      "2024-05-02 08:31:21,740 - stpipe.RampFitStep - INFO - Extracting readnoise subarray to match science data\n",
      "2024-05-02 08:31:21,741 - stpipe.RampFitStep - INFO - Using algorithm = ols\n",
      "2024-05-02 08:31:21,742 - stpipe.RampFitStep - INFO - Using weighting = optimal\n",
      "2024-05-02 09:00:08,182 - stpipe.RampFitStep - INFO - Number of groups per integration: 20\n",
      "2024-05-02 09:00:08,185 - stpipe.RampFitStep - INFO - Number of integrations: 561\n",
      "2024-05-02 09:00:12,912 - stpipe.RampFitStep - INFO - Results used CRDS context: jwst_1228.pmap\n",
      "2024-05-02 09:00:12,918 - stpipe.RampFitStep - INFO - Results used CRDS context: jwst_1228.pmap\n",
      "2024-05-02 09:00:13,054 - stpipe.RampFitStep - INFO - Saved model in JWSTdata/ts_outputs/jw01118005001_04101_00001-seg002_nrs2_tsojumpstep_0_ramp_fitstep.fits\n",
      "2024-05-02 09:00:17,696 - stpipe.RampFitStep - INFO - Saved model in JWSTdata/ts_outputs/jw01118005001_04101_00001-seg002_nrs2_tsojumpstep_1_ramp_fitstep.fits\n",
      "2024-05-02 09:00:17,697 - stpipe.RampFitStep - INFO - Step RampFitStep done\n",
      "2024-05-02 09:00:17,717 - stpipe.RampFitStep - INFO - RampFitStep instance created.\n",
      "2024-05-02 09:00:17,923 - stpipe.RampFitStep - INFO - Step RampFitStep running with args (<RampModel(17, 20, 32, 2048) from jw01118005001_04101_00001-seg003_nrs2_tsojumpstep.fits>,).\n",
      "2024-05-02 09:00:17,926 - stpipe.RampFitStep - INFO - Step RampFitStep parameters are:\n",
      "  pre_hooks: []\n",
      "  post_hooks: []\n",
      "  output_file: None\n",
      "  output_dir: JWSTdata/ts_outputs\n",
      "  output_ext: .fits\n",
      "  output_use_model: False\n",
      "  output_use_index: True\n",
      "  save_results: True\n",
      "  skip: False\n",
      "  suffix: ramp_fitstep\n",
      "  search_output_file: True\n",
      "  input_dir: ''\n",
      "  int_name: ''\n",
      "  save_opt: False\n",
      "  opt_name: ''\n",
      "  suppress_one_group: True\n",
      "  maximum_cores: '1'\n",
      "2024-05-02 09:00:17,960 - stpipe.RampFitStep - INFO - Using READNOISE reference file: /grp/crds/cache/references/jwst/jwst_nirspec_readnoise_0048.fits\n",
      "2024-05-02 09:00:17,961 - stpipe.RampFitStep - INFO - Using GAIN reference file: /grp/crds/cache/references/jwst/jwst_nirspec_gain_0027.fits\n",
      "2024-05-02 09:00:18,005 - stpipe.RampFitStep - INFO - Extracting gain subarray to match science data\n",
      "2024-05-02 09:00:18,006 - stpipe.RampFitStep - INFO - Extracting readnoise subarray to match science data\n",
      "2024-05-02 09:00:18,007 - stpipe.RampFitStep - INFO - Using algorithm = ols\n",
      "2024-05-02 09:00:18,008 - stpipe.RampFitStep - INFO - Using weighting = optimal\n",
      "2024-05-02 09:00:29,813 - stpipe.RampFitStep - INFO - Number of groups per integration: 20\n",
      "2024-05-02 09:00:29,816 - stpipe.RampFitStep - INFO - Number of integrations: 17\n",
      "2024-05-02 09:00:30,007 - stpipe.RampFitStep - INFO - Results used CRDS context: jwst_1228.pmap\n",
      "2024-05-02 09:00:30,010 - stpipe.RampFitStep - INFO - Results used CRDS context: jwst_1228.pmap\n",
      "2024-05-02 09:00:30,108 - stpipe.RampFitStep - INFO - Saved model in JWSTdata/ts_outputs/jw01118005001_04101_00001-seg003_nrs2_tsojumpstep_0_ramp_fitstep.fits\n",
      "2024-05-02 09:00:30,472 - stpipe.RampFitStep - INFO - Saved model in JWSTdata/ts_outputs/jw01118005001_04101_00001-seg003_nrs2_tsojumpstep_1_ramp_fitstep.fits\n",
      "2024-05-02 09:00:30,473 - stpipe.RampFitStep - INFO - Step RampFitStep done\n"
     ]
    }
   ],
   "source": [
    "nrs1_dataset.fit_ramps()\n",
    "nrs2_dataset.fit_ramps()"
   ]
  },
  {
   "cell_type": "markdown",
   "id": "13e146c9-8e7c-44c9-96c1-0af6572b0498",
   "metadata": {},
   "source": [
    "## 3. Tracing and spectral extraction\n",
    "\n",
    "Let's trace and get spectral extraction. It can be done for any aperture (see below), but we do it for a single aperture for now. \n",
    "\n",
    "First, we setup a dictionary with the outputs from the ramp-fitting for NRS1 and NRS2 (I'm working on incorporating this to the nice object-oriented setup I had above, but for now, I have a handy function that handles both tracing and extraction):"
   ]
  },
  {
   "cell_type": "code",
   "execution_count": 18,
   "id": "bea2522b-b6f0-4b50-91a7-63dd7f5fe5ae",
   "metadata": {},
   "outputs": [],
   "source": [
    "input_dictionary_nrs1 = {}\n",
    "input_dictionary_nrs2 = {}\n",
    "\n",
    "nsegments = len(nrs1_dataset.rateints_per_segment)\n",
    "\n",
    "input_dictionary_nrs1['rampstep'] = nrs1_dataset.rateints_per_segment\n",
    "input_dictionary_nrs1['times'] = nrs1_dataset.times\n",
    "\n",
    "input_dictionary_nrs2['rampstep'] = nrs2_dataset.rateints_per_segment\n",
    "input_dictionary_nrs2['times'] = nrs2_dataset.times\n",
    "\n",
    "input_dictionary_nrs1['ints_per_segment'] = []\n",
    "input_dictionary_nrs2['ints_per_segment'] = []\n",
    "\n",
    "for i in range(nsegments):\n",
    "\n",
    "    input_dictionary_nrs1['ints_per_segment'].append( nrs1_dataset.rateints_per_segment[i].data.shape[0] )\n",
    "    input_dictionary_nrs2['ints_per_segment'].append( nrs2_dataset.rateints_per_segment[i].data.shape[0] )\n",
    "    "
   ]
  },
  {
   "cell_type": "markdown",
   "id": "d54f3125-f681-4e6e-a609-7d97e6301536",
   "metadata": {},
   "source": [
    "And now we run tracing and simple extraction for a 2-pixel aperture. Note is done twice --- one for NRS1, one for NRS2. It also is all parallelized; you set the number of threads, the `ray` library internally via `transitspectroscopy` does the rest:"
   ]
  },
  {
   "cell_type": "code",
   "execution_count": 19,
   "id": "71015ecc-b1ff-42da-9577-750841bcfc80",
   "metadata": {},
   "outputs": [
    {
     "name": "stdout",
     "output_type": "stream",
     "text": [
      "\t >> Processing through spectral tracing and extraction:\n",
      "\n",
      "\t    - TSO total duration: 6.0 hours\n",
      "\t    - Instrument/Mode: NIRSpec/G395H\n",
      "\n",
      "\t    - Detector/Subarray: NRS1/SUB2048\n",
      "\n"
     ]
    },
    {
     "name": "stderr",
     "output_type": "stream",
     "text": [
      "2024-05-02 09:12:33,143 - stpipe - WARNING - All-NaN slice encountered\n",
      "\n",
      "2024-05-02 09:12:40,725 - stpipe - WARNING - unclosed file <_io.TextIOWrapper name='/tmp/ray/session_2024-05-02_09-12-40_496797_218724/logs/gcs_server.out' mode='a' encoding='utf-8'>\n",
      "\n",
      "2024-05-02 09:12:40,730 - stpipe - WARNING - unclosed file <_io.TextIOWrapper name='/tmp/ray/session_2024-05-02_09-12-40_496797_218724/logs/gcs_server.err' mode='a' encoding='utf-8'>\n",
      "\n",
      "2024-05-02 09:12:41,951 - stpipe - WARNING - unclosed file <_io.TextIOWrapper name='/tmp/ray/session_2024-05-02_09-12-40_496797_218724/logs/monitor.out' mode='a' encoding='utf-8'>\n",
      "\n",
      "2024-05-02 09:12:41,955 - stpipe - WARNING - unclosed file <_io.TextIOWrapper name='/tmp/ray/session_2024-05-02_09-12-40_496797_218724/logs/monitor.err' mode='a' encoding='utf-8'>\n",
      "\n",
      "2024-05-02 09:12:44,619 - stpipe - WARNING - unclosed file <_io.TextIOWrapper name='/tmp/ray/session_2024-05-02_09-12-40_496797_218724/logs/dashboard.err' mode='a' encoding='utf-8'>\n",
      "\n",
      "2024-05-02 09:12:44,989 - stpipe - WARNING - unclosed file <_io.TextIOWrapper name='/tmp/ray/session_2024-05-02_09-12-40_496797_218724/logs/raylet.out' mode='a' encoding='utf-8'>\n",
      "\n",
      "2024-05-02 09:12:44,992 - stpipe - WARNING - unclosed file <_io.TextIOWrapper name='/tmp/ray/session_2024-05-02_09-12-40_496797_218724/logs/raylet.err' mode='a' encoding='utf-8'>\n",
      "\n",
      "2024-05-02 09:12:45,112 - stpipe - WARNING - unclosed file <_io.TextIOWrapper name='/tmp/ray/session_2024-05-02_09-12-40_496797_218724/logs/log_monitor.err' mode='a' encoding='utf-8'>\n",
      "\n",
      "2024-05-02 09:12:46,137\tINFO worker.py:1673 -- Started a local Ray instance.\n"
     ]
    },
    {
     "name": "stdout",
     "output_type": "stream",
     "text": [
      "\t >> Tracing will be done via the ray library:\n",
      "\t    - It should take about 0.07 hours to trace all 1139 integrations.\n",
      "\u001b[36m(pid=239266)\u001b[0m Warning: no zeus installation found. Will not be able to sample using sampler = 'zeus'.\n",
      "\t    - Done! Took 0.08 hours. Correcting outliers and smoothing traces...\n"
     ]
    },
    {
     "name": "stderr",
     "output_type": "stream",
     "text": [
      "100%|█████████████████████████████████████| 1139/1139 [00:00<00:00, 1334.65it/s]\n",
      "2024-05-02 09:17:27,185 - stpipe - WARNING - unclosed file <_io.BufferedWriter name='/ifs/jwst/wit/nirspec/nespinoza/pipeline_outputs/traces_2pix_nrs1.pkl'>\n",
      "\n"
     ]
    },
    {
     "name": "stdout",
     "output_type": "stream",
     "text": [
      "\t    - Done! Took 0.88 seconds. Saving...\n"
     ]
    },
    {
     "name": "stderr",
     "output_type": "stream",
     "text": [
      "2024-05-02 09:17:27,598 - stpipe - WARNING - All-NaN slice encountered\n",
      "\n"
     ]
    },
    {
     "name": "stdout",
     "output_type": "stream",
     "text": [
      "\t >> Performing spectral extraction...\n",
      "\t    - Performing 1/f supression via median-scaling...\n"
     ]
    },
    {
     "name": "stderr",
     "output_type": "stream",
     "text": [
      "100%|██████████████████████████████████████| 1139/1139 [00:06<00:00, 175.97it/s]\n"
     ]
    },
    {
     "name": "stdout",
     "output_type": "stream",
     "text": [
      "\t    - Performing spectral extraction via Simple Extraction...\n"
     ]
    },
    {
     "name": "stderr",
     "output_type": "stream",
     "text": [
      "100%|███████████████████████████████████████| 1139/1139 [01:21<00:00, 14.04it/s]\n",
      "2024-05-02 09:18:56,005 - stpipe.AssignWcsStep - INFO - AssignWcsStep instance created.\n"
     ]
    },
    {
     "name": "stdout",
     "output_type": "stream",
     "text": [
      "\t    - Done! Extracting wavelength map...\n"
     ]
    },
    {
     "name": "stderr",
     "output_type": "stream",
     "text": [
      "2024-05-02 09:18:56,221 - stpipe.AssignWcsStep - INFO - Step AssignWcsStep running with args (<CubeModel(561, 32, 2048) from jw01118005001_04101_00001-seg001_nrs1_tsojumpstep_1_ramp_fitstep.fits>,).\n",
      "2024-05-02 09:18:56,224 - stpipe.AssignWcsStep - INFO - Step AssignWcsStep parameters are:\n",
      "  pre_hooks: []\n",
      "  post_hooks: []\n",
      "  output_file: None\n",
      "  output_dir: None\n",
      "  output_ext: .fits\n",
      "  output_use_model: False\n",
      "  output_use_index: True\n",
      "  save_results: False\n",
      "  skip: False\n",
      "  suffix: None\n",
      "  search_output_file: True\n",
      "  input_dir: ''\n",
      "  sip_approx: True\n",
      "  sip_max_pix_error: 0.1\n",
      "  sip_degree: None\n",
      "  sip_max_inv_pix_error: 0.1\n",
      "  sip_inv_degree: None\n",
      "  sip_npoints: 12\n",
      "  slit_y_low: -0.55\n",
      "  slit_y_high: 0.55\n",
      "2024-05-02 09:18:56,457 - stpipe.AssignWcsStep - INFO - gwa_ytilt is 0.14491473099997404 deg\n",
      "2024-05-02 09:18:56,458 - stpipe.AssignWcsStep - INFO - gwa_xtilt is 0.3174072800001554 deg\n",
      "2024-05-02 09:18:56,459 - stpipe.AssignWcsStep - INFO - theta_y correction: 0.002344476274754786 deg\n",
      "2024-05-02 09:18:56,461 - stpipe.AssignWcsStep - INFO - theta_x correction: 0.00016770793767766654 deg\n",
      "2024-05-02 09:18:56,806 - stpipe.AssignWcsStep - INFO - Slits projected on detector NRS1: ['S1600A1']\n",
      "2024-05-02 09:18:56,807 - stpipe.AssignWcsStep - INFO - Computing WCS for 1 open slitlets\n",
      "2024-05-02 09:18:56,848 - stpipe.AssignWcsStep - INFO - gwa_ytilt is 0.14491473099997404 deg\n",
      "2024-05-02 09:18:56,849 - stpipe.AssignWcsStep - INFO - gwa_xtilt is 0.3174072800001554 deg\n",
      "2024-05-02 09:18:56,849 - stpipe.AssignWcsStep - INFO - theta_y correction: 0.002344476274754786 deg\n",
      "2024-05-02 09:18:56,851 - stpipe.AssignWcsStep - INFO - theta_x correction: 0.00016770793767766654 deg\n",
      "2024-05-02 09:18:56,871 - stpipe.AssignWcsStep - INFO - SPORDER= -1, wrange=[2.87e-06, 5.27e-06]\n",
      "2024-05-02 09:18:57,040 - stpipe.AssignWcsStep - INFO - Applied Barycentric velocity correction : 1.0000044206444265\n",
      "2024-05-02 09:18:57,083 - stpipe.AssignWcsStep - INFO - There are 0 open slits in quadrant 1\n",
      "2024-05-02 09:18:57,084 - stpipe.AssignWcsStep - INFO - There are 0 open slits in quadrant 2\n",
      "2024-05-02 09:18:57,084 - stpipe.AssignWcsStep - INFO - There are 0 open slits in quadrant 3\n",
      "2024-05-02 09:18:57,085 - stpipe.AssignWcsStep - INFO - There are 0 open slits in quadrant 4\n",
      "2024-05-02 09:18:57,086 - stpipe.AssignWcsStep - INFO - There are 1 open slits in quadrant 5\n",
      "2024-05-02 09:18:57,307 - stpipe.AssignWcsStep - INFO - Created a NIRSPEC nrs_brightobj pipeline with references {'distortion': None, 'filteroffset': None, 'specwcs': None, 'regions': None, 'wavelengthrange': '/grp/crds/cache/references/jwst/jwst_nirspec_wavelengthrange_0006.asdf', 'camera': '/grp/crds/cache/references/jwst/jwst_nirspec_camera_0007.asdf', 'collimator': '/grp/crds/cache/references/jwst/jwst_nirspec_collimator_0007.asdf', 'disperser': '/grp/crds/cache/references/jwst/jwst_nirspec_disperser_0056.asdf', 'fore': '/grp/crds/cache/references/jwst/jwst_nirspec_fore_0047.asdf', 'fpa': '/grp/crds/cache/references/jwst/jwst_nirspec_fpa_0008.asdf', 'msa': '/grp/crds/cache/references/jwst/jwst_nirspec_msa_0008.asdf', 'ote': '/grp/crds/cache/references/jwst/jwst_nirspec_ote_0010.asdf', 'ifupost': None, 'ifufore': None, 'ifuslicer': None}\n",
      "2024-05-02 09:18:57,918 - stpipe.AssignWcsStep - INFO - COMPLETED assign_wcs\n",
      "2024-05-02 09:18:57,925 - stpipe.AssignWcsStep - INFO - Results used CRDS context: jwst_1228.pmap\n",
      "2024-05-02 09:18:57,926 - stpipe.AssignWcsStep - INFO - Step AssignWcsStep done\n",
      "2024-05-02 09:18:58,270 - stpipe - WARNING - unclosed file <_io.BufferedWriter name='/ifs/jwst/wit/nirspec/nespinoza/pipeline_outputs/spectra_2pix_nrs1.pkl'>\n",
      "\n"
     ]
    },
    {
     "name": "stdout",
     "output_type": "stream",
     "text": [
      "\t    - Done! Took 90.63 seconds. Saving...\n",
      "\u001b[36m(pid=239270)\u001b[0m Warning: no zeus installation found. Will not be able to sample using sampler = 'zeus'.\u001b[32m [repeated 9x across cluster] (Ray deduplicates logs by default. Set RAY_DEDUP_LOGS=0 to disable log deduplication, or see https://docs.ray.io/en/master/ray-observability/ray-logging.html#log-deduplication for more options.)\u001b[0m\n",
      "\t >> Processing through spectral tracing and extraction:\n",
      "\n",
      "\t    - TSO total duration: 6.0 hours\n",
      "\t    - Instrument/Mode: NIRSpec/G395H\n",
      "\n",
      "\t    - Detector/Subarray: NRS2/SUB2048\n",
      "\n"
     ]
    },
    {
     "name": "stderr",
     "output_type": "stream",
     "text": [
      "2024-05-02 09:19:00,439 - stpipe - WARNING - All-NaN slice encountered\n",
      "\n",
      "2024-05-02 09:19:08,715 - stpipe - WARNING - unclosed file <_io.TextIOWrapper name='/tmp/ray/session_2024-05-02_09-19-08_597005_218724/logs/gcs_server.out' mode='a' encoding='utf-8'>\n",
      "\n",
      "2024-05-02 09:19:08,721 - stpipe - WARNING - unclosed file <_io.TextIOWrapper name='/tmp/ray/session_2024-05-02_09-19-08_597005_218724/logs/gcs_server.err' mode='a' encoding='utf-8'>\n",
      "\n",
      "2024-05-02 09:19:09,878 - stpipe - WARNING - unclosed file <_io.TextIOWrapper name='/tmp/ray/session_2024-05-02_09-19-08_597005_218724/logs/monitor.out' mode='a' encoding='utf-8'>\n",
      "\n",
      "2024-05-02 09:19:09,881 - stpipe - WARNING - unclosed file <_io.TextIOWrapper name='/tmp/ray/session_2024-05-02_09-19-08_597005_218724/logs/monitor.err' mode='a' encoding='utf-8'>\n",
      "\n",
      "2024-05-02 09:19:11,409 - stpipe - WARNING - unclosed file <_io.TextIOWrapper name='/tmp/ray/session_2024-05-02_09-19-08_597005_218724/logs/dashboard.err' mode='a' encoding='utf-8'>\n",
      "\n",
      "2024-05-02 09:19:11,545 - stpipe - WARNING - unclosed file <_io.TextIOWrapper name='/tmp/ray/session_2024-05-02_09-19-08_597005_218724/logs/raylet.out' mode='a' encoding='utf-8'>\n",
      "\n",
      "2024-05-02 09:19:11,549 - stpipe - WARNING - unclosed file <_io.TextIOWrapper name='/tmp/ray/session_2024-05-02_09-19-08_597005_218724/logs/raylet.err' mode='a' encoding='utf-8'>\n",
      "\n",
      "2024-05-02 09:19:11,659 - stpipe - WARNING - unclosed file <_io.TextIOWrapper name='/tmp/ray/session_2024-05-02_09-19-08_597005_218724/logs/log_monitor.err' mode='a' encoding='utf-8'>\n",
      "\n",
      "2024-05-02 09:19:12,678\tINFO worker.py:1673 -- Started a local Ray instance.\n"
     ]
    },
    {
     "name": "stdout",
     "output_type": "stream",
     "text": [
      "\t >> Tracing will be done via the ray library:\n",
      "\t    - It should take about 0.09 hours to trace all 1139 integrations.\n",
      "\u001b[36m(pid=245429)\u001b[0m Warning: no zeus installation found. Will not be able to sample using sampler = 'zeus'.\n",
      "\t    - Done! Took 0.10 hours. Correcting outliers and smoothing traces...\n"
     ]
    },
    {
     "name": "stderr",
     "output_type": "stream",
     "text": [
      "100%|█████████████████████████████████████| 1139/1139 [00:00<00:00, 1173.37it/s]\n",
      "2024-05-02 09:25:16,267 - stpipe - WARNING - unclosed file <_io.BufferedWriter name='/ifs/jwst/wit/nirspec/nespinoza/pipeline_outputs/traces_2pix_nrs2.pkl'>\n",
      "\n"
     ]
    },
    {
     "name": "stdout",
     "output_type": "stream",
     "text": [
      "\t    - Done! Took 0.98 seconds. Saving...\n"
     ]
    },
    {
     "name": "stderr",
     "output_type": "stream",
     "text": [
      "2024-05-02 09:25:16,749 - stpipe - WARNING - All-NaN slice encountered\n",
      "\n"
     ]
    },
    {
     "name": "stdout",
     "output_type": "stream",
     "text": [
      "\t >> Performing spectral extraction...\n",
      "\t    - Performing 1/f supression via median-scaling...\n"
     ]
    },
    {
     "name": "stderr",
     "output_type": "stream",
     "text": [
      "100%|██████████████████████████████████████| 1139/1139 [00:07<00:00, 160.72it/s]\n"
     ]
    },
    {
     "name": "stdout",
     "output_type": "stream",
     "text": [
      "\t    - Performing spectral extraction via Simple Extraction...\n"
     ]
    },
    {
     "name": "stderr",
     "output_type": "stream",
     "text": [
      "100%|███████████████████████████████████████| 1139/1139 [01:44<00:00, 10.86it/s]\n",
      "2024-05-02 09:27:09,544 - stpipe.AssignWcsStep - INFO - AssignWcsStep instance created.\n",
      "2024-05-02 09:27:09,784 - stpipe.AssignWcsStep - INFO - Step AssignWcsStep running with args (<CubeModel(561, 32, 2048) from jw01118005001_04101_00001-seg001_nrs2_tsojumpstep_1_ramp_fitstep.fits>,).\n"
     ]
    },
    {
     "name": "stdout",
     "output_type": "stream",
     "text": [
      "\t    - Done! Extracting wavelength map...\n"
     ]
    },
    {
     "name": "stderr",
     "output_type": "stream",
     "text": [
      "2024-05-02 09:27:09,788 - stpipe.AssignWcsStep - INFO - Step AssignWcsStep parameters are:\n",
      "  pre_hooks: []\n",
      "  post_hooks: []\n",
      "  output_file: None\n",
      "  output_dir: None\n",
      "  output_ext: .fits\n",
      "  output_use_model: False\n",
      "  output_use_index: True\n",
      "  save_results: False\n",
      "  skip: False\n",
      "  suffix: None\n",
      "  search_output_file: True\n",
      "  input_dir: ''\n",
      "  sip_approx: True\n",
      "  sip_max_pix_error: 0.1\n",
      "  sip_degree: None\n",
      "  sip_max_inv_pix_error: 0.1\n",
      "  sip_inv_degree: None\n",
      "  sip_npoints: 12\n",
      "  slit_y_low: -0.55\n",
      "  slit_y_high: 0.55\n",
      "2024-05-02 09:27:10,059 - stpipe.AssignWcsStep - INFO - gwa_ytilt is 0.14491473099997404 deg\n",
      "2024-05-02 09:27:10,060 - stpipe.AssignWcsStep - INFO - gwa_xtilt is 0.3174072800001554 deg\n",
      "2024-05-02 09:27:10,061 - stpipe.AssignWcsStep - INFO - theta_y correction: 0.002344476274754786 deg\n",
      "2024-05-02 09:27:10,063 - stpipe.AssignWcsStep - INFO - theta_x correction: 0.00016770793767766654 deg\n",
      "2024-05-02 09:27:10,373 - stpipe.AssignWcsStep - INFO - Slits projected on detector NRS2: ['S1600A1']\n",
      "2024-05-02 09:27:10,374 - stpipe.AssignWcsStep - INFO - Computing WCS for 1 open slitlets\n",
      "2024-05-02 09:27:10,409 - stpipe.AssignWcsStep - INFO - gwa_ytilt is 0.14491473099997404 deg\n",
      "2024-05-02 09:27:10,410 - stpipe.AssignWcsStep - INFO - gwa_xtilt is 0.3174072800001554 deg\n",
      "2024-05-02 09:27:10,411 - stpipe.AssignWcsStep - INFO - theta_y correction: 0.002344476274754786 deg\n",
      "2024-05-02 09:27:10,412 - stpipe.AssignWcsStep - INFO - theta_x correction: 0.00016770793767766654 deg\n",
      "2024-05-02 09:27:10,431 - stpipe.AssignWcsStep - INFO - SPORDER= -1, wrange=[2.87e-06, 5.27e-06]\n",
      "2024-05-02 09:27:10,605 - stpipe.AssignWcsStep - INFO - Applied Barycentric velocity correction : 1.0000044212782038\n",
      "2024-05-02 09:27:10,651 - stpipe.AssignWcsStep - INFO - There are 0 open slits in quadrant 1\n",
      "2024-05-02 09:27:10,652 - stpipe.AssignWcsStep - INFO - There are 0 open slits in quadrant 2\n",
      "2024-05-02 09:27:10,652 - stpipe.AssignWcsStep - INFO - There are 0 open slits in quadrant 3\n",
      "2024-05-02 09:27:10,653 - stpipe.AssignWcsStep - INFO - There are 0 open slits in quadrant 4\n",
      "2024-05-02 09:27:10,654 - stpipe.AssignWcsStep - INFO - There are 1 open slits in quadrant 5\n",
      "2024-05-02 09:27:10,856 - stpipe.AssignWcsStep - INFO - Created a NIRSPEC nrs_brightobj pipeline with references {'distortion': None, 'filteroffset': None, 'specwcs': None, 'regions': None, 'wavelengthrange': '/grp/crds/cache/references/jwst/jwst_nirspec_wavelengthrange_0006.asdf', 'camera': '/grp/crds/cache/references/jwst/jwst_nirspec_camera_0007.asdf', 'collimator': '/grp/crds/cache/references/jwst/jwst_nirspec_collimator_0007.asdf', 'disperser': '/grp/crds/cache/references/jwst/jwst_nirspec_disperser_0056.asdf', 'fore': '/grp/crds/cache/references/jwst/jwst_nirspec_fore_0047.asdf', 'fpa': '/grp/crds/cache/references/jwst/jwst_nirspec_fpa_0008.asdf', 'msa': '/grp/crds/cache/references/jwst/jwst_nirspec_msa_0008.asdf', 'ote': '/grp/crds/cache/references/jwst/jwst_nirspec_ote_0010.asdf', 'ifupost': None, 'ifufore': None, 'ifuslicer': None}\n",
      "2024-05-02 09:27:11,331 - stpipe.AssignWcsStep - INFO - COMPLETED assign_wcs\n",
      "2024-05-02 09:27:11,336 - stpipe.AssignWcsStep - INFO - Results used CRDS context: jwst_1228.pmap\n",
      "2024-05-02 09:27:11,336 - stpipe.AssignWcsStep - INFO - Step AssignWcsStep done\n"
     ]
    },
    {
     "name": "stdout",
     "output_type": "stream",
     "text": [
      "\t    - Done! Took 114.94 seconds. Saving...\n"
     ]
    },
    {
     "name": "stderr",
     "output_type": "stream",
     "text": [
      "2024-05-02 09:27:11,954 - stpipe - WARNING - unclosed file <_io.BufferedWriter name='/ifs/jwst/wit/nirspec/nespinoza/pipeline_outputs/spectra_2pix_nrs2.pkl'>\n",
      "\n"
     ]
    },
    {
     "name": "stdout",
     "output_type": "stream",
     "text": [
      "\u001b[36m(pid=245436)\u001b[0m Warning: no zeus installation found. Will not be able to sample using sampler = 'zeus'.\u001b[32m [repeated 9x across cluster]\u001b[0m\n"
     ]
    }
   ],
   "source": [
    "all_outputs_nrs1 = {}\n",
    "all_outputs_nrs2 = {}\n",
    "\n",
    "aperture = 2 # pixels\n",
    "\n",
    "all_outputs_nrs1[aperture] = ts.jwst.stage2(input_dictionary_nrs1, \n",
    "                                            nthreads = 10, \n",
    "                                            outputfolder = '/ifs/jwst/wit/nirspec/nespinoza/', \n",
    "                                            suffix = str(aperture)+'pix', \n",
    "                                            aperture_radius = aperture)\n",
    "\n",
    "all_outputs_nrs2[aperture] = ts.jwst.stage2(input_dictionary_nrs2, \n",
    "                                            nthreads = 10, \n",
    "                                            outputfolder = '/ifs/jwst/wit/nirspec/nespinoza/', \n",
    "                                            suffix = str(aperture)+'pix', \n",
    "                                            aperture_radius = aperture)"
   ]
  },
  {
   "cell_type": "markdown",
   "id": "c71eea33-2f5e-4442-8d8b-af86e7c3a9ce",
   "metadata": {},
   "source": [
    "Let's plot the white-light lightcurve results for one aperture:"
   ]
  },
  {
   "cell_type": "code",
   "execution_count": 37,
   "id": "da079947-21de-40c6-b30d-d84167925be3",
   "metadata": {},
   "outputs": [
    {
     "name": "stderr",
     "output_type": "stream",
     "text": [
      "2024-05-02 11:14:12,225 - stpipe - WARNING - invalid escape sequence '\\s'\n",
      "\n",
      "2024-05-02 11:14:12,229 - stpipe - WARNING - invalid escape sequence '\\s'\n",
      "\n",
      "2024-05-02 11:14:12,232 - stpipe - WARNING - invalid escape sequence '\\s'\n",
      "\n"
     ]
    },
    {
     "data": {
      "text/plain": [
       "(0.992, 1.0025)"
      ]
     },
     "execution_count": 37,
     "metadata": {},
     "output_type": "execute_result"
    },
    {
     "data": {
      "image/png": "[encoded data removed]",
      "text/plain": [
       "<Figure size 1000x300 with 1 Axes>"
      ]
     },
     "metadata": {},
     "output_type": "display_data"
    }
   ],
   "source": [
    "plt.figure(figsize=(10,3))\n",
    "\n",
    "tsincestart_nrs1 = (input_dictionary_nrs1['times'] - input_dictionary_nrs1['times'][0])*24\n",
    "plt.plot(tsincestart_nrs1, all_outputs_nrs1[aperture]['whitelight'], '.', color = 'cornflowerblue')\n",
    "rms_nrs1 = np.sqrt(np.var(all_outputs_nrs1[aperture]['whitelight'][0:100]))*1e6\n",
    "plt.text(0.3, 0.998, '$\\sigma_{NRS1} = $'+'{0:.0f} ppm'.format(rms_nrs1), fontsize = 16)\n",
    "\n",
    "plt.xlabel('Time since exposure start (hours)', fontsize = 18)\n",
    "plt.ylabel('Relative flux', fontsize = 18)\n",
    "plt.xticks(fontsize = 16)\n",
    "plt.yticks(fontsize = 16)\n",
    "\n",
    "plt.xlim(np.min(tsincestart_nrs1), np.max(tsincestart_nrs1))\n",
    "plt.ylim(0.992, 1.0025)"
   ]
  },
  {
   "cell_type": "code",
   "execution_count": 38,
   "id": "0fd8d0a5-5f7c-413c-b3e6-b252abb52463",
   "metadata": {},
   "outputs": [
    {
     "name": "stderr",
     "output_type": "stream",
     "text": [
      "2024-05-02 11:14:17,172 - stpipe - WARNING - invalid escape sequence '\\s'\n",
      "\n",
      "2024-05-02 11:14:17,176 - stpipe - WARNING - invalid escape sequence '\\s'\n",
      "\n",
      "2024-05-02 11:14:17,179 - stpipe - WARNING - invalid escape sequence '\\s'\n",
      "\n"
     ]
    },
    {
     "data": {
      "text/plain": [
       "(0.992, 1.0025)"
      ]
     },
     "execution_count": 38,
     "metadata": {},
     "output_type": "execute_result"
    },
    {
     "data": {
      "image/png": "[encoded data removed]",
      "text/plain": [
       "<Figure size 1000x300 with 1 Axes>"
      ]
     },
     "metadata": {},
     "output_type": "display_data"
    }
   ],
   "source": [
    "plt.figure(figsize=(10,3))\n",
    "\n",
    "tsincestart_nrs2 = (input_dictionary_nrs2['times'] - input_dictionary_nrs2['times'][0])*24\n",
    "plt.plot(tsincestart_nrs2, all_outputs_nrs2[aperture]['whitelight'], '.', color = 'tomato')\n",
    "rms_nrs2 = np.sqrt(np.var(all_outputs_nrs2[aperture]['whitelight'][0:100]))*1e6\n",
    "plt.text(0.3, 0.998, '$\\sigma_{NRS2} = $'+'{0:.0f} ppm'.format(rms_nrs2), fontsize = 16)\n",
    "\n",
    "plt.xlabel('Time since exposure start (hours)', fontsize = 18)\n",
    "plt.ylabel('Relative flux', fontsize = 18)\n",
    "plt.xticks(fontsize = 16)\n",
    "plt.yticks(fontsize = 16)\n",
    "\n",
    "plt.xlim(np.min(tsincestart_nrs2), np.max(tsincestart_nrs2))\n",
    "plt.ylim(0.992, 1.0025)"
   ]
  },
  {
   "cell_type": "markdown",
   "id": "24125758-354e-4f5d-8a1c-dddc73a73ecb",
   "metadata": {},
   "source": [
    "We can also run the code below to run the results for various other apertures, to check which one is optimal:"
   ]
  },
  {
   "cell_type": "code",
   "execution_count": null,
   "id": "63ca9176-bda9-4f28-9fb2-f970569361a8",
   "metadata": {},
   "outputs": [
    {
     "name": "stdout",
     "output_type": "stream",
     "text": [
      "\t >> Processing through spectral tracing and extraction:\n",
      "\n",
      "\t    - TSO total duration: 6.0 hours\n",
      "\t    - Instrument/Mode: NIRSpec/G395H\n",
      "\n",
      "\t    - Detector/Subarray: NRS1/SUB2048\n",
      "\n"
     ]
    },
    {
     "name": "stderr",
     "output_type": "stream",
     "text": [
      "2024-05-02 09:40:48,035 - stpipe - WARNING - All-NaN slice encountered\n",
      "\n",
      "2024-05-02 09:40:55,437 - stpipe - WARNING - unclosed file <_io.TextIOWrapper name='/tmp/ray/session_2024-05-02_09-40-55_312965_218724/logs/gcs_server.out' mode='a' encoding='utf-8'>\n",
      "\n",
      "2024-05-02 09:40:55,442 - stpipe - WARNING - unclosed file <_io.TextIOWrapper name='/tmp/ray/session_2024-05-02_09-40-55_312965_218724/logs/gcs_server.err' mode='a' encoding='utf-8'>\n",
      "\n",
      "2024-05-02 09:40:56,597 - stpipe - WARNING - unclosed file <_io.TextIOWrapper name='/tmp/ray/session_2024-05-02_09-40-55_312965_218724/logs/monitor.out' mode='a' encoding='utf-8'>\n",
      "\n",
      "2024-05-02 09:40:56,600 - stpipe - WARNING - unclosed file <_io.TextIOWrapper name='/tmp/ray/session_2024-05-02_09-40-55_312965_218724/logs/monitor.err' mode='a' encoding='utf-8'>\n",
      "\n",
      "2024-05-02 09:40:58,130 - stpipe - WARNING - unclosed file <_io.TextIOWrapper name='/tmp/ray/session_2024-05-02_09-40-55_312965_218724/logs/dashboard.err' mode='a' encoding='utf-8'>\n",
      "\n",
      "2024-05-02 09:40:58,267 - stpipe - WARNING - unclosed file <_io.TextIOWrapper name='/tmp/ray/session_2024-05-02_09-40-55_312965_218724/logs/raylet.out' mode='a' encoding='utf-8'>\n",
      "\n",
      "2024-05-02 09:40:58,270 - stpipe - WARNING - unclosed file <_io.TextIOWrapper name='/tmp/ray/session_2024-05-02_09-40-55_312965_218724/logs/raylet.err' mode='a' encoding='utf-8'>\n",
      "\n",
      "2024-05-02 09:40:58,384 - stpipe - WARNING - unclosed file <_io.TextIOWrapper name='/tmp/ray/session_2024-05-02_09-40-55_312965_218724/logs/log_monitor.err' mode='a' encoding='utf-8'>\n",
      "\n",
      "2024-05-02 09:40:59,404\tINFO worker.py:1673 -- Started a local Ray instance.\n"
     ]
    },
    {
     "name": "stdout",
     "output_type": "stream",
     "text": [
      "\t >> Tracing will be done via the ray library:\n",
      "\t    - It should take about 0.07 hours to trace all 1139 integrations.\n",
      "\u001b[36m(pid=261616)\u001b[0m Warning: no zeus installation found. Will not be able to sample using sampler = 'zeus'.\n",
      "\t    - Done! Took 0.08 hours. Correcting outliers and smoothing traces...\n"
     ]
    },
    {
     "name": "stderr",
     "output_type": "stream",
     "text": [
      "100%|█████████████████████████████████████| 1139/1139 [00:00<00:00, 1354.98it/s]\n",
      "2024-05-02 09:45:35,560 - stpipe - WARNING - unclosed file <_io.BufferedWriter name='/ifs/jwst/wit/nirspec/nespinoza/pipeline_outputs/traces_4pix_nrs1.pkl'>\n",
      "\n"
     ]
    },
    {
     "name": "stdout",
     "output_type": "stream",
     "text": [
      "\t    - Done! Took 0.85 seconds. Saving...\n"
     ]
    },
    {
     "name": "stderr",
     "output_type": "stream",
     "text": [
      "2024-05-02 09:45:35,896 - stpipe - WARNING - All-NaN slice encountered\n",
      "\n"
     ]
    },
    {
     "name": "stdout",
     "output_type": "stream",
     "text": [
      "\t >> Performing spectral extraction...\n",
      "\t    - Performing 1/f supression via median-scaling...\n"
     ]
    },
    {
     "name": "stderr",
     "output_type": "stream",
     "text": [
      "100%|██████████████████████████████████████| 1139/1139 [00:06<00:00, 183.69it/s]\n"
     ]
    },
    {
     "name": "stdout",
     "output_type": "stream",
     "text": [
      "\t    - Performing spectral extraction via Simple Extraction...\n"
     ]
    },
    {
     "name": "stderr",
     "output_type": "stream",
     "text": [
      "100%|███████████████████████████████████████| 1139/1139 [01:20<00:00, 14.22it/s]\n",
      "2024-05-02 09:47:02,971 - stpipe.AssignWcsStep - INFO - AssignWcsStep instance created.\n",
      "2024-05-02 09:47:03,230 - stpipe.AssignWcsStep - INFO - Step AssignWcsStep running with args (<CubeModel(561, 32, 2048) from jw01118005001_04101_00001-seg001_nrs1_tsojumpstep_1_ramp_fitstep.fits>,).\n"
     ]
    },
    {
     "name": "stdout",
     "output_type": "stream",
     "text": [
      "\t    - Done! Extracting wavelength map...\n"
     ]
    },
    {
     "name": "stderr",
     "output_type": "stream",
     "text": [
      "2024-05-02 09:47:03,233 - stpipe.AssignWcsStep - INFO - Step AssignWcsStep parameters are:\n",
      "  pre_hooks: []\n",
      "  post_hooks: []\n",
      "  output_file: None\n",
      "  output_dir: None\n",
      "  output_ext: .fits\n",
      "  output_use_model: False\n",
      "  output_use_index: True\n",
      "  save_results: False\n",
      "  skip: False\n",
      "  suffix: None\n",
      "  search_output_file: True\n",
      "  input_dir: ''\n",
      "  sip_approx: True\n",
      "  sip_max_pix_error: 0.1\n",
      "  sip_degree: None\n",
      "  sip_max_inv_pix_error: 0.1\n",
      "  sip_inv_degree: None\n",
      "  sip_npoints: 12\n",
      "  slit_y_low: -0.55\n",
      "  slit_y_high: 0.55\n",
      "2024-05-02 09:47:03,428 - stpipe.AssignWcsStep - INFO - gwa_ytilt is 0.14491473099997404 deg\n",
      "2024-05-02 09:47:03,429 - stpipe.AssignWcsStep - INFO - gwa_xtilt is 0.3174072800001554 deg\n",
      "2024-05-02 09:47:03,430 - stpipe.AssignWcsStep - INFO - theta_y correction: 0.002344476274754786 deg\n",
      "2024-05-02 09:47:03,431 - stpipe.AssignWcsStep - INFO - theta_x correction: 0.00016770793767766654 deg\n",
      "2024-05-02 09:47:03,772 - stpipe.AssignWcsStep - INFO - Slits projected on detector NRS1: ['S1600A1']\n",
      "2024-05-02 09:47:03,774 - stpipe.AssignWcsStep - INFO - Computing WCS for 1 open slitlets\n",
      "2024-05-02 09:47:03,809 - stpipe.AssignWcsStep - INFO - gwa_ytilt is 0.14491473099997404 deg\n",
      "2024-05-02 09:47:03,810 - stpipe.AssignWcsStep - INFO - gwa_xtilt is 0.3174072800001554 deg\n",
      "2024-05-02 09:47:03,810 - stpipe.AssignWcsStep - INFO - theta_y correction: 0.002344476274754786 deg\n",
      "2024-05-02 09:47:03,811 - stpipe.AssignWcsStep - INFO - theta_x correction: 0.00016770793767766654 deg\n",
      "2024-05-02 09:47:03,831 - stpipe.AssignWcsStep - INFO - SPORDER= -1, wrange=[2.87e-06, 5.27e-06]\n",
      "2024-05-02 09:47:04,006 - stpipe.AssignWcsStep - INFO - Applied Barycentric velocity correction : 1.0000044206444265\n",
      "2024-05-02 09:47:04,057 - stpipe.AssignWcsStep - INFO - There are 0 open slits in quadrant 1\n",
      "2024-05-02 09:47:04,058 - stpipe.AssignWcsStep - INFO - There are 0 open slits in quadrant 2\n",
      "2024-05-02 09:47:04,058 - stpipe.AssignWcsStep - INFO - There are 0 open slits in quadrant 3\n",
      "2024-05-02 09:47:04,059 - stpipe.AssignWcsStep - INFO - There are 0 open slits in quadrant 4\n",
      "2024-05-02 09:47:04,060 - stpipe.AssignWcsStep - INFO - There are 1 open slits in quadrant 5\n",
      "2024-05-02 09:47:04,260 - stpipe.AssignWcsStep - INFO - Created a NIRSPEC nrs_brightobj pipeline with references {'distortion': None, 'filteroffset': None, 'specwcs': None, 'regions': None, 'wavelengthrange': '/grp/crds/cache/references/jwst/jwst_nirspec_wavelengthrange_0006.asdf', 'camera': '/grp/crds/cache/references/jwst/jwst_nirspec_camera_0007.asdf', 'collimator': '/grp/crds/cache/references/jwst/jwst_nirspec_collimator_0007.asdf', 'disperser': '/grp/crds/cache/references/jwst/jwst_nirspec_disperser_0056.asdf', 'fore': '/grp/crds/cache/references/jwst/jwst_nirspec_fore_0047.asdf', 'fpa': '/grp/crds/cache/references/jwst/jwst_nirspec_fpa_0008.asdf', 'msa': '/grp/crds/cache/references/jwst/jwst_nirspec_msa_0008.asdf', 'ote': '/grp/crds/cache/references/jwst/jwst_nirspec_ote_0010.asdf', 'ifupost': None, 'ifufore': None, 'ifuslicer': None}\n",
      "2024-05-02 09:47:04,792 - stpipe.AssignWcsStep - INFO - COMPLETED assign_wcs\n",
      "2024-05-02 09:47:04,799 - stpipe.AssignWcsStep - INFO - Results used CRDS context: jwst_1228.pmap\n",
      "2024-05-02 09:47:04,800 - stpipe.AssignWcsStep - INFO - Step AssignWcsStep done\n",
      "2024-05-02 09:47:05,139 - stpipe - WARNING - unclosed file <_io.BufferedWriter name='/ifs/jwst/wit/nirspec/nespinoza/pipeline_outputs/spectra_4pix_nrs1.pkl'>\n",
      "\n"
     ]
    },
    {
     "name": "stdout",
     "output_type": "stream",
     "text": [
      "\t    - Done! Took 89.20 seconds. Saving...\n",
      "\u001b[36m(pid=261614)\u001b[0m Warning: no zeus installation found. Will not be able to sample using sampler = 'zeus'.\u001b[32m [repeated 9x across cluster]\u001b[0m\n",
      "\t >> Processing through spectral tracing and extraction:\n",
      "\n",
      "\t    - TSO total duration: 6.0 hours\n",
      "\t    - Instrument/Mode: NIRSpec/G395H\n",
      "\n",
      "\t    - Detector/Subarray: NRS2/SUB2048\n",
      "\n"
     ]
    },
    {
     "name": "stderr",
     "output_type": "stream",
     "text": [
      "2024-05-02 09:47:07,235 - stpipe - WARNING - All-NaN slice encountered\n",
      "\n",
      "2024-05-02 09:47:15,323 - stpipe - WARNING - unclosed file <_io.TextIOWrapper name='/tmp/ray/session_2024-05-02_09-47-15_189436_218724/logs/gcs_server.out' mode='a' encoding='utf-8'>\n",
      "\n",
      "2024-05-02 09:47:15,326 - stpipe - WARNING - unclosed file <_io.TextIOWrapper name='/tmp/ray/session_2024-05-02_09-47-15_189436_218724/logs/gcs_server.err' mode='a' encoding='utf-8'>\n",
      "\n",
      "2024-05-02 09:47:16,498 - stpipe - WARNING - unclosed file <_io.TextIOWrapper name='/tmp/ray/session_2024-05-02_09-47-15_189436_218724/logs/monitor.out' mode='a' encoding='utf-8'>\n",
      "\n",
      "2024-05-02 09:47:16,501 - stpipe - WARNING - unclosed file <_io.TextIOWrapper name='/tmp/ray/session_2024-05-02_09-47-15_189436_218724/logs/monitor.err' mode='a' encoding='utf-8'>\n",
      "\n",
      "2024-05-02 09:47:18,048 - stpipe - WARNING - unclosed file <_io.TextIOWrapper name='/tmp/ray/session_2024-05-02_09-47-15_189436_218724/logs/dashboard.err' mode='a' encoding='utf-8'>\n",
      "\n",
      "2024-05-02 09:47:18,202 - stpipe - WARNING - unclosed file <_io.TextIOWrapper name='/tmp/ray/session_2024-05-02_09-47-15_189436_218724/logs/raylet.out' mode='a' encoding='utf-8'>\n",
      "\n",
      "2024-05-02 09:47:18,206 - stpipe - WARNING - unclosed file <_io.TextIOWrapper name='/tmp/ray/session_2024-05-02_09-47-15_189436_218724/logs/raylet.err' mode='a' encoding='utf-8'>\n",
      "\n",
      "2024-05-02 09:47:18,332 - stpipe - WARNING - unclosed file <_io.TextIOWrapper name='/tmp/ray/session_2024-05-02_09-47-15_189436_218724/logs/log_monitor.err' mode='a' encoding='utf-8'>\n",
      "\n",
      "2024-05-02 09:47:19,350\tINFO worker.py:1673 -- Started a local Ray instance.\n"
     ]
    },
    {
     "name": "stdout",
     "output_type": "stream",
     "text": [
      "\t >> Tracing will be done via the ray library:\n",
      "\t    - It should take about 0.09 hours to trace all 1139 integrations.\n",
      "\u001b[36m(pid=266343)\u001b[0m Warning: no zeus installation found. Will not be able to sample using sampler = 'zeus'.\n",
      "\t    - Done! Took 0.10 hours. Correcting outliers and smoothing traces...\n"
     ]
    },
    {
     "name": "stderr",
     "output_type": "stream",
     "text": [
      "100%|█████████████████████████████████████| 1139/1139 [00:00<00:00, 1202.62it/s]\n",
      "2024-05-02 09:53:24,000 - stpipe - WARNING - unclosed file <_io.BufferedWriter name='/ifs/jwst/wit/nirspec/nespinoza/pipeline_outputs/traces_4pix_nrs2.pkl'>\n",
      "\n"
     ]
    },
    {
     "name": "stdout",
     "output_type": "stream",
     "text": [
      "\t    - Done! Took 0.95 seconds. Saving...\n"
     ]
    },
    {
     "name": "stderr",
     "output_type": "stream",
     "text": [
      "2024-05-02 09:53:24,551 - stpipe - WARNING - All-NaN slice encountered\n",
      "\n"
     ]
    },
    {
     "name": "stdout",
     "output_type": "stream",
     "text": [
      "\t >> Performing spectral extraction...\n",
      "\t    - Performing 1/f supression via median-scaling...\n"
     ]
    },
    {
     "name": "stderr",
     "output_type": "stream",
     "text": [
      "100%|██████████████████████████████████████| 1139/1139 [00:07<00:00, 160.76it/s]\n"
     ]
    },
    {
     "name": "stdout",
     "output_type": "stream",
     "text": [
      "\t    - Performing spectral extraction via Simple Extraction...\n"
     ]
    },
    {
     "name": "stderr",
     "output_type": "stream",
     "text": [
      "100%|███████████████████████████████████████| 1139/1139 [01:44<00:00, 10.86it/s]\n",
      "2024-05-02 09:55:17,379 - stpipe.AssignWcsStep - INFO - AssignWcsStep instance created.\n"
     ]
    },
    {
     "name": "stdout",
     "output_type": "stream",
     "text": [
      "\t    - Done! Extracting wavelength map...\n"
     ]
    },
    {
     "name": "stderr",
     "output_type": "stream",
     "text": [
      "2024-05-02 09:55:17,629 - stpipe.AssignWcsStep - INFO - Step AssignWcsStep running with args (<CubeModel(561, 32, 2048) from jw01118005001_04101_00001-seg001_nrs2_tsojumpstep_1_ramp_fitstep.fits>,).\n",
      "2024-05-02 09:55:17,632 - stpipe.AssignWcsStep - INFO - Step AssignWcsStep parameters are:\n",
      "  pre_hooks: []\n",
      "  post_hooks: []\n",
      "  output_file: None\n",
      "  output_dir: None\n",
      "  output_ext: .fits\n",
      "  output_use_model: False\n",
      "  output_use_index: True\n",
      "  save_results: False\n",
      "  skip: False\n",
      "  suffix: None\n",
      "  search_output_file: True\n",
      "  input_dir: ''\n",
      "  sip_approx: True\n",
      "  sip_max_pix_error: 0.1\n",
      "  sip_degree: None\n",
      "  sip_max_inv_pix_error: 0.1\n",
      "  sip_inv_degree: None\n",
      "  sip_npoints: 12\n",
      "  slit_y_low: -0.55\n",
      "  slit_y_high: 0.55\n",
      "2024-05-02 09:55:17,820 - stpipe.AssignWcsStep - INFO - gwa_ytilt is 0.14491473099997404 deg\n",
      "2024-05-02 09:55:17,821 - stpipe.AssignWcsStep - INFO - gwa_xtilt is 0.3174072800001554 deg\n",
      "2024-05-02 09:55:17,822 - stpipe.AssignWcsStep - INFO - theta_y correction: 0.002344476274754786 deg\n",
      "2024-05-02 09:55:17,823 - stpipe.AssignWcsStep - INFO - theta_x correction: 0.00016770793767766654 deg\n",
      "2024-05-02 09:55:18,128 - stpipe.AssignWcsStep - INFO - Slits projected on detector NRS2: ['S1600A1']\n",
      "2024-05-02 09:55:18,129 - stpipe.AssignWcsStep - INFO - Computing WCS for 1 open slitlets\n",
      "2024-05-02 09:55:18,164 - stpipe.AssignWcsStep - INFO - gwa_ytilt is 0.14491473099997404 deg\n",
      "2024-05-02 09:55:18,165 - stpipe.AssignWcsStep - INFO - gwa_xtilt is 0.3174072800001554 deg\n",
      "2024-05-02 09:55:18,166 - stpipe.AssignWcsStep - INFO - theta_y correction: 0.002344476274754786 deg\n",
      "2024-05-02 09:55:18,167 - stpipe.AssignWcsStep - INFO - theta_x correction: 0.00016770793767766654 deg\n",
      "2024-05-02 09:55:18,186 - stpipe.AssignWcsStep - INFO - SPORDER= -1, wrange=[2.87e-06, 5.27e-06]\n",
      "2024-05-02 09:55:18,351 - stpipe.AssignWcsStep - INFO - Applied Barycentric velocity correction : 1.0000044212782038\n",
      "2024-05-02 09:55:18,397 - stpipe.AssignWcsStep - INFO - There are 0 open slits in quadrant 1\n",
      "2024-05-02 09:55:18,398 - stpipe.AssignWcsStep - INFO - There are 0 open slits in quadrant 2\n",
      "2024-05-02 09:55:18,399 - stpipe.AssignWcsStep - INFO - There are 0 open slits in quadrant 3\n",
      "2024-05-02 09:55:18,399 - stpipe.AssignWcsStep - INFO - There are 0 open slits in quadrant 4\n",
      "2024-05-02 09:55:18,400 - stpipe.AssignWcsStep - INFO - There are 1 open slits in quadrant 5\n",
      "2024-05-02 09:55:18,602 - stpipe.AssignWcsStep - INFO - Created a NIRSPEC nrs_brightobj pipeline with references {'distortion': None, 'filteroffset': None, 'specwcs': None, 'regions': None, 'wavelengthrange': '/grp/crds/cache/references/jwst/jwst_nirspec_wavelengthrange_0006.asdf', 'camera': '/grp/crds/cache/references/jwst/jwst_nirspec_camera_0007.asdf', 'collimator': '/grp/crds/cache/references/jwst/jwst_nirspec_collimator_0007.asdf', 'disperser': '/grp/crds/cache/references/jwst/jwst_nirspec_disperser_0056.asdf', 'fore': '/grp/crds/cache/references/jwst/jwst_nirspec_fore_0047.asdf', 'fpa': '/grp/crds/cache/references/jwst/jwst_nirspec_fpa_0008.asdf', 'msa': '/grp/crds/cache/references/jwst/jwst_nirspec_msa_0008.asdf', 'ote': '/grp/crds/cache/references/jwst/jwst_nirspec_ote_0010.asdf', 'ifupost': None, 'ifufore': None, 'ifuslicer': None}\n",
      "2024-05-02 09:55:19,105 - stpipe.AssignWcsStep - INFO - COMPLETED assign_wcs\n",
      "2024-05-02 09:55:19,110 - stpipe.AssignWcsStep - INFO - Results used CRDS context: jwst_1228.pmap\n",
      "2024-05-02 09:55:19,110 - stpipe.AssignWcsStep - INFO - Step AssignWcsStep done\n",
      "2024-05-02 09:55:19,511 - stpipe - WARNING - unclosed file <_io.BufferedWriter name='/ifs/jwst/wit/nirspec/nespinoza/pipeline_outputs/spectra_4pix_nrs2.pkl'>\n",
      "\n"
     ]
    },
    {
     "name": "stdout",
     "output_type": "stream",
     "text": [
      "\t    - Done! Took 114.91 seconds. Saving...\n",
      "\u001b[36m(pid=266349)\u001b[0m Warning: no zeus installation found. Will not be able to sample using sampler = 'zeus'.\u001b[32m [repeated 9x across cluster]\u001b[0m\n",
      "\t >> Processing through spectral tracing and extraction:\n",
      "\n",
      "\t    - TSO total duration: 6.0 hours\n",
      "\t    - Instrument/Mode: NIRSpec/G395H\n",
      "\n",
      "\t    - Detector/Subarray: NRS1/SUB2048\n",
      "\n"
     ]
    },
    {
     "name": "stderr",
     "output_type": "stream",
     "text": [
      "2024-05-02 09:55:21,808 - stpipe - WARNING - All-NaN slice encountered\n",
      "\n",
      "2024-05-02 09:55:29,262 - stpipe - WARNING - unclosed file <_io.TextIOWrapper name='/tmp/ray/session_2024-05-02_09-55-29_127204_218724/logs/gcs_server.out' mode='a' encoding='utf-8'>\n",
      "\n",
      "2024-05-02 09:55:29,266 - stpipe - WARNING - unclosed file <_io.TextIOWrapper name='/tmp/ray/session_2024-05-02_09-55-29_127204_218724/logs/gcs_server.err' mode='a' encoding='utf-8'>\n",
      "\n",
      "2024-05-02 09:55:30,442 - stpipe - WARNING - unclosed file <_io.TextIOWrapper name='/tmp/ray/session_2024-05-02_09-55-29_127204_218724/logs/monitor.out' mode='a' encoding='utf-8'>\n",
      "\n",
      "2024-05-02 09:55:30,446 - stpipe - WARNING - unclosed file <_io.TextIOWrapper name='/tmp/ray/session_2024-05-02_09-55-29_127204_218724/logs/monitor.err' mode='a' encoding='utf-8'>\n",
      "\n",
      "2024-05-02 09:55:31,898 - stpipe - WARNING - unclosed file <_io.TextIOWrapper name='/tmp/ray/session_2024-05-02_09-55-29_127204_218724/logs/dashboard.err' mode='a' encoding='utf-8'>\n",
      "\n",
      "2024-05-02 09:55:32,056 - stpipe - WARNING - unclosed file <_io.TextIOWrapper name='/tmp/ray/session_2024-05-02_09-55-29_127204_218724/logs/raylet.out' mode='a' encoding='utf-8'>\n",
      "\n",
      "2024-05-02 09:55:32,060 - stpipe - WARNING - unclosed file <_io.TextIOWrapper name='/tmp/ray/session_2024-05-02_09-55-29_127204_218724/logs/raylet.err' mode='a' encoding='utf-8'>\n",
      "\n",
      "2024-05-02 09:55:32,198 - stpipe - WARNING - unclosed file <_io.TextIOWrapper name='/tmp/ray/session_2024-05-02_09-55-29_127204_218724/logs/log_monitor.err' mode='a' encoding='utf-8'>\n",
      "\n",
      "2024-05-02 09:55:33,218\tINFO worker.py:1673 -- Started a local Ray instance.\n"
     ]
    },
    {
     "name": "stdout",
     "output_type": "stream",
     "text": [
      "\t >> Tracing will be done via the ray library:\n",
      "\t    - It should take about 0.07 hours to trace all 1139 integrations.\n",
      "\u001b[36m(pid=272807)\u001b[0m Warning: no zeus installation found. Will not be able to sample using sampler = 'zeus'.\n",
      "\t    - Done! Took 0.08 hours. Correcting outliers and smoothing traces...\n"
     ]
    },
    {
     "name": "stderr",
     "output_type": "stream",
     "text": [
      "100%|█████████████████████████████████████| 1139/1139 [00:00<00:00, 1340.56it/s]\n"
     ]
    },
    {
     "name": "stdout",
     "output_type": "stream",
     "text": [
      "\t    - Done! Took 0.85 seconds. Saving...\n"
     ]
    },
    {
     "name": "stderr",
     "output_type": "stream",
     "text": [
      "2024-05-02 10:00:44,230 - stpipe - WARNING - unclosed file <_io.BufferedWriter name='/ifs/jwst/wit/nirspec/nespinoza/pipeline_outputs/traces_6pix_nrs1.pkl'>\n",
      "\n",
      "2024-05-02 10:00:45,249 - stpipe - WARNING - All-NaN slice encountered\n",
      "\n"
     ]
    },
    {
     "name": "stdout",
     "output_type": "stream",
     "text": [
      "\t >> Performing spectral extraction...\n",
      "\t    - Performing 1/f supression via median-scaling...\n"
     ]
    },
    {
     "name": "stderr",
     "output_type": "stream",
     "text": [
      "100%|██████████████████████████████████████| 1139/1139 [00:06<00:00, 173.36it/s]\n"
     ]
    },
    {
     "name": "stdout",
     "output_type": "stream",
     "text": [
      "\t    - Performing spectral extraction via Simple Extraction...\n"
     ]
    },
    {
     "name": "stderr",
     "output_type": "stream",
     "text": [
      "100%|███████████████████████████████████████| 1139/1139 [01:21<00:00, 13.99it/s]\n",
      "2024-05-02 10:02:13,995 - stpipe.AssignWcsStep - INFO - AssignWcsStep instance created.\n"
     ]
    },
    {
     "name": "stdout",
     "output_type": "stream",
     "text": [
      "\t    - Done! Extracting wavelength map...\n"
     ]
    },
    {
     "name": "stderr",
     "output_type": "stream",
     "text": [
      "2024-05-02 10:02:14,251 - stpipe.AssignWcsStep - INFO - Step AssignWcsStep running with args (<CubeModel(561, 32, 2048) from jw01118005001_04101_00001-seg001_nrs1_tsojumpstep_1_ramp_fitstep.fits>,).\n",
      "2024-05-02 10:02:14,254 - stpipe.AssignWcsStep - INFO - Step AssignWcsStep parameters are:\n",
      "  pre_hooks: []\n",
      "  post_hooks: []\n",
      "  output_file: None\n",
      "  output_dir: None\n",
      "  output_ext: .fits\n",
      "  output_use_model: False\n",
      "  output_use_index: True\n",
      "  save_results: False\n",
      "  skip: False\n",
      "  suffix: None\n",
      "  search_output_file: True\n",
      "  input_dir: ''\n",
      "  sip_approx: True\n",
      "  sip_max_pix_error: 0.1\n",
      "  sip_degree: None\n",
      "  sip_max_inv_pix_error: 0.1\n",
      "  sip_inv_degree: None\n",
      "  sip_npoints: 12\n",
      "  slit_y_low: -0.55\n",
      "  slit_y_high: 0.55\n",
      "2024-05-02 10:02:14,474 - stpipe.AssignWcsStep - INFO - gwa_ytilt is 0.14491473099997404 deg\n",
      "2024-05-02 10:02:14,474 - stpipe.AssignWcsStep - INFO - gwa_xtilt is 0.3174072800001554 deg\n",
      "2024-05-02 10:02:14,475 - stpipe.AssignWcsStep - INFO - theta_y correction: 0.002344476274754786 deg\n",
      "2024-05-02 10:02:14,476 - stpipe.AssignWcsStep - INFO - theta_x correction: 0.00016770793767766654 deg\n",
      "2024-05-02 10:02:14,803 - stpipe.AssignWcsStep - INFO - Slits projected on detector NRS1: ['S1600A1']\n",
      "2024-05-02 10:02:14,804 - stpipe.AssignWcsStep - INFO - Computing WCS for 1 open slitlets\n",
      "2024-05-02 10:02:14,847 - stpipe.AssignWcsStep - INFO - gwa_ytilt is 0.14491473099997404 deg\n",
      "2024-05-02 10:02:14,848 - stpipe.AssignWcsStep - INFO - gwa_xtilt is 0.3174072800001554 deg\n",
      "2024-05-02 10:02:14,849 - stpipe.AssignWcsStep - INFO - theta_y correction: 0.002344476274754786 deg\n",
      "2024-05-02 10:02:14,851 - stpipe.AssignWcsStep - INFO - theta_x correction: 0.00016770793767766654 deg\n",
      "2024-05-02 10:02:14,873 - stpipe.AssignWcsStep - INFO - SPORDER= -1, wrange=[2.87e-06, 5.27e-06]\n",
      "2024-05-02 10:02:15,047 - stpipe.AssignWcsStep - INFO - Applied Barycentric velocity correction : 1.0000044206444265\n",
      "2024-05-02 10:02:15,096 - stpipe.AssignWcsStep - INFO - There are 0 open slits in quadrant 1\n",
      "2024-05-02 10:02:15,097 - stpipe.AssignWcsStep - INFO - There are 0 open slits in quadrant 2\n",
      "2024-05-02 10:02:15,097 - stpipe.AssignWcsStep - INFO - There are 0 open slits in quadrant 3\n",
      "2024-05-02 10:02:15,098 - stpipe.AssignWcsStep - INFO - There are 0 open slits in quadrant 4\n",
      "2024-05-02 10:02:15,099 - stpipe.AssignWcsStep - INFO - There are 1 open slits in quadrant 5\n",
      "2024-05-02 10:02:15,310 - stpipe.AssignWcsStep - INFO - Created a NIRSPEC nrs_brightobj pipeline with references {'distortion': None, 'filteroffset': None, 'specwcs': None, 'regions': None, 'wavelengthrange': '/grp/crds/cache/references/jwst/jwst_nirspec_wavelengthrange_0006.asdf', 'camera': '/grp/crds/cache/references/jwst/jwst_nirspec_camera_0007.asdf', 'collimator': '/grp/crds/cache/references/jwst/jwst_nirspec_collimator_0007.asdf', 'disperser': '/grp/crds/cache/references/jwst/jwst_nirspec_disperser_0056.asdf', 'fore': '/grp/crds/cache/references/jwst/jwst_nirspec_fore_0047.asdf', 'fpa': '/grp/crds/cache/references/jwst/jwst_nirspec_fpa_0008.asdf', 'msa': '/grp/crds/cache/references/jwst/jwst_nirspec_msa_0008.asdf', 'ote': '/grp/crds/cache/references/jwst/jwst_nirspec_ote_0010.asdf', 'ifupost': None, 'ifufore': None, 'ifuslicer': None}\n",
      "2024-05-02 10:02:15,854 - stpipe.AssignWcsStep - INFO - COMPLETED assign_wcs\n",
      "2024-05-02 10:02:15,859 - stpipe.AssignWcsStep - INFO - Results used CRDS context: jwst_1228.pmap\n",
      "2024-05-02 10:02:15,860 - stpipe.AssignWcsStep - INFO - Step AssignWcsStep done\n"
     ]
    },
    {
     "name": "stdout",
     "output_type": "stream",
     "text": [
      "\t    - Done! Took 90.91 seconds. Saving...\n"
     ]
    },
    {
     "name": "stderr",
     "output_type": "stream",
     "text": [
      "2024-05-02 10:02:20,275 - stpipe - WARNING - unclosed file <_io.BufferedWriter name='/ifs/jwst/wit/nirspec/nespinoza/pipeline_outputs/spectra_6pix_nrs1.pkl'>\n",
      "\n"
     ]
    },
    {
     "name": "stdout",
     "output_type": "stream",
     "text": [
      "\u001b[36m(pid=272809)\u001b[0m Warning: no zeus installation found. Will not be able to sample using sampler = 'zeus'.\u001b[32m [repeated 9x across cluster]\u001b[0m\n",
      "\t >> Processing through spectral tracing and extraction:\n",
      "\n",
      "\t    - TSO total duration: 6.0 hours\n",
      "\t    - Instrument/Mode: NIRSpec/G395H\n",
      "\n",
      "\t    - Detector/Subarray: NRS2/SUB2048\n",
      "\n"
     ]
    },
    {
     "name": "stderr",
     "output_type": "stream",
     "text": [
      "2024-05-02 10:02:22,306 - stpipe - WARNING - All-NaN slice encountered\n",
      "\n",
      "2024-05-02 10:02:30,441 - stpipe - WARNING - unclosed file <_io.TextIOWrapper name='/tmp/ray/session_2024-05-02_10-02-30_297699_218724/logs/gcs_server.out' mode='a' encoding='utf-8'>\n",
      "\n",
      "2024-05-02 10:02:30,446 - stpipe - WARNING - unclosed file <_io.TextIOWrapper name='/tmp/ray/session_2024-05-02_10-02-30_297699_218724/logs/gcs_server.err' mode='a' encoding='utf-8'>\n",
      "\n",
      "2024-05-02 10:02:31,621 - stpipe - WARNING - unclosed file <_io.TextIOWrapper name='/tmp/ray/session_2024-05-02_10-02-30_297699_218724/logs/monitor.out' mode='a' encoding='utf-8'>\n",
      "\n",
      "2024-05-02 10:02:31,624 - stpipe - WARNING - unclosed file <_io.TextIOWrapper name='/tmp/ray/session_2024-05-02_10-02-30_297699_218724/logs/monitor.err' mode='a' encoding='utf-8'>\n",
      "\n",
      "2024-05-02 10:02:33,177 - stpipe - WARNING - unclosed file <_io.TextIOWrapper name='/tmp/ray/session_2024-05-02_10-02-30_297699_218724/logs/dashboard.err' mode='a' encoding='utf-8'>\n",
      "\n",
      "2024-05-02 10:02:33,345 - stpipe - WARNING - unclosed file <_io.TextIOWrapper name='/tmp/ray/session_2024-05-02_10-02-30_297699_218724/logs/raylet.out' mode='a' encoding='utf-8'>\n",
      "\n",
      "2024-05-02 10:02:33,349 - stpipe - WARNING - unclosed file <_io.TextIOWrapper name='/tmp/ray/session_2024-05-02_10-02-30_297699_218724/logs/raylet.err' mode='a' encoding='utf-8'>\n",
      "\n",
      "2024-05-02 10:02:33,481 - stpipe - WARNING - unclosed file <_io.TextIOWrapper name='/tmp/ray/session_2024-05-02_10-02-30_297699_218724/logs/log_monitor.err' mode='a' encoding='utf-8'>\n",
      "\n",
      "2024-05-02 10:02:34,501\tINFO worker.py:1673 -- Started a local Ray instance.\n"
     ]
    },
    {
     "name": "stdout",
     "output_type": "stream",
     "text": [
      "\t >> Tracing will be done via the ray library:\n",
      "\t    - It should take about 0.09 hours to trace all 1139 integrations.\n",
      "\u001b[36m(pid=277466)\u001b[0m Warning: no zeus installation found. Will not be able to sample using sampler = 'zeus'.\n",
      "\t    - Done! Took 0.10 hours. Correcting outliers and smoothing traces...\n"
     ]
    },
    {
     "name": "stderr",
     "output_type": "stream",
     "text": [
      "100%|█████████████████████████████████████| 1139/1139 [00:00<00:00, 1170.19it/s]\n"
     ]
    },
    {
     "name": "stdout",
     "output_type": "stream",
     "text": [
      "\t    - Done! Took 0.98 seconds. Saving...\n"
     ]
    },
    {
     "name": "stderr",
     "output_type": "stream",
     "text": [
      "2024-05-02 10:08:37,046 - stpipe - WARNING - unclosed file <_io.BufferedWriter name='/ifs/jwst/wit/nirspec/nespinoza/pipeline_outputs/traces_6pix_nrs2.pkl'>\n",
      "\n",
      "2024-05-02 10:08:37,649 - stpipe - WARNING - All-NaN slice encountered\n",
      "\n"
     ]
    },
    {
     "name": "stdout",
     "output_type": "stream",
     "text": [
      "\t >> Performing spectral extraction...\n",
      "\t    - Performing 1/f supression via median-scaling...\n"
     ]
    },
    {
     "name": "stderr",
     "output_type": "stream",
     "text": [
      "100%|██████████████████████████████████████| 1139/1139 [00:07<00:00, 160.68it/s]\n"
     ]
    },
    {
     "name": "stdout",
     "output_type": "stream",
     "text": [
      "\t    - Performing spectral extraction via Simple Extraction...\n"
     ]
    },
    {
     "name": "stderr",
     "output_type": "stream",
     "text": [
      "100%|███████████████████████████████████████| 1139/1139 [01:46<00:00, 10.74it/s]\n",
      "2024-05-02 10:10:31,613 - stpipe.AssignWcsStep - INFO - AssignWcsStep instance created.\n",
      "2024-05-02 10:10:31,868 - stpipe.AssignWcsStep - INFO - Step AssignWcsStep running with args (<CubeModel(561, 32, 2048) from jw01118005001_04101_00001-seg001_nrs2_tsojumpstep_1_ramp_fitstep.fits>,).\n"
     ]
    },
    {
     "name": "stdout",
     "output_type": "stream",
     "text": [
      "\t    - Done! Extracting wavelength map...\n"
     ]
    },
    {
     "name": "stderr",
     "output_type": "stream",
     "text": [
      "2024-05-02 10:10:31,871 - stpipe.AssignWcsStep - INFO - Step AssignWcsStep parameters are:\n",
      "  pre_hooks: []\n",
      "  post_hooks: []\n",
      "  output_file: None\n",
      "  output_dir: None\n",
      "  output_ext: .fits\n",
      "  output_use_model: False\n",
      "  output_use_index: True\n",
      "  save_results: False\n",
      "  skip: False\n",
      "  suffix: None\n",
      "  search_output_file: True\n",
      "  input_dir: ''\n",
      "  sip_approx: True\n",
      "  sip_max_pix_error: 0.1\n",
      "  sip_degree: None\n",
      "  sip_max_inv_pix_error: 0.1\n",
      "  sip_inv_degree: None\n",
      "  sip_npoints: 12\n",
      "  slit_y_low: -0.55\n",
      "  slit_y_high: 0.55\n",
      "2024-05-02 10:10:32,068 - stpipe.AssignWcsStep - INFO - gwa_ytilt is 0.14491473099997404 deg\n",
      "2024-05-02 10:10:32,069 - stpipe.AssignWcsStep - INFO - gwa_xtilt is 0.3174072800001554 deg\n",
      "2024-05-02 10:10:32,070 - stpipe.AssignWcsStep - INFO - theta_y correction: 0.002344476274754786 deg\n",
      "2024-05-02 10:10:32,071 - stpipe.AssignWcsStep - INFO - theta_x correction: 0.00016770793767766654 deg\n",
      "2024-05-02 10:10:32,395 - stpipe.AssignWcsStep - INFO - Slits projected on detector NRS2: ['S1600A1']\n",
      "2024-05-02 10:10:32,396 - stpipe.AssignWcsStep - INFO - Computing WCS for 1 open slitlets\n",
      "2024-05-02 10:10:32,433 - stpipe.AssignWcsStep - INFO - gwa_ytilt is 0.14491473099997404 deg\n",
      "2024-05-02 10:10:32,433 - stpipe.AssignWcsStep - INFO - gwa_xtilt is 0.3174072800001554 deg\n",
      "2024-05-02 10:10:32,434 - stpipe.AssignWcsStep - INFO - theta_y correction: 0.002344476274754786 deg\n",
      "2024-05-02 10:10:32,435 - stpipe.AssignWcsStep - INFO - theta_x correction: 0.00016770793767766654 deg\n",
      "2024-05-02 10:10:32,455 - stpipe.AssignWcsStep - INFO - SPORDER= -1, wrange=[2.87e-06, 5.27e-06]\n",
      "2024-05-02 10:10:32,606 - stpipe.AssignWcsStep - INFO - Applied Barycentric velocity correction : 1.0000044212782038\n",
      "2024-05-02 10:10:32,647 - stpipe.AssignWcsStep - INFO - There are 0 open slits in quadrant 1\n",
      "2024-05-02 10:10:32,648 - stpipe.AssignWcsStep - INFO - There are 0 open slits in quadrant 2\n",
      "2024-05-02 10:10:32,649 - stpipe.AssignWcsStep - INFO - There are 0 open slits in quadrant 3\n",
      "2024-05-02 10:10:32,649 - stpipe.AssignWcsStep - INFO - There are 0 open slits in quadrant 4\n",
      "2024-05-02 10:10:32,650 - stpipe.AssignWcsStep - INFO - There are 1 open slits in quadrant 5\n",
      "2024-05-02 10:10:32,860 - stpipe.AssignWcsStep - INFO - Created a NIRSPEC nrs_brightobj pipeline with references {'distortion': None, 'filteroffset': None, 'specwcs': None, 'regions': None, 'wavelengthrange': '/grp/crds/cache/references/jwst/jwst_nirspec_wavelengthrange_0006.asdf', 'camera': '/grp/crds/cache/references/jwst/jwst_nirspec_camera_0007.asdf', 'collimator': '/grp/crds/cache/references/jwst/jwst_nirspec_collimator_0007.asdf', 'disperser': '/grp/crds/cache/references/jwst/jwst_nirspec_disperser_0056.asdf', 'fore': '/grp/crds/cache/references/jwst/jwst_nirspec_fore_0047.asdf', 'fpa': '/grp/crds/cache/references/jwst/jwst_nirspec_fpa_0008.asdf', 'msa': '/grp/crds/cache/references/jwst/jwst_nirspec_msa_0008.asdf', 'ote': '/grp/crds/cache/references/jwst/jwst_nirspec_ote_0010.asdf', 'ifupost': None, 'ifufore': None, 'ifuslicer': None}\n",
      "2024-05-02 10:10:33,321 - stpipe.AssignWcsStep - INFO - COMPLETED assign_wcs\n",
      "2024-05-02 10:10:33,326 - stpipe.AssignWcsStep - INFO - Results used CRDS context: jwst_1228.pmap\n",
      "2024-05-02 10:10:33,327 - stpipe.AssignWcsStep - INFO - Step AssignWcsStep done\n",
      "2024-05-02 10:10:33,728 - stpipe - WARNING - unclosed file <_io.BufferedWriter name='/ifs/jwst/wit/nirspec/nespinoza/pipeline_outputs/spectra_6pix_nrs2.pkl'>\n",
      "\n"
     ]
    },
    {
     "name": "stdout",
     "output_type": "stream",
     "text": [
      "\t    - Done! Took 116.01 seconds. Saving...\n",
      "\u001b[36m(pid=277473)\u001b[0m Warning: no zeus installation found. Will not be able to sample using sampler = 'zeus'.\u001b[32m [repeated 9x across cluster]\u001b[0m\n",
      "\t >> Processing through spectral tracing and extraction:\n",
      "\n",
      "\t    - TSO total duration: 6.0 hours\n",
      "\t    - Instrument/Mode: NIRSpec/G395H\n",
      "\n",
      "\t    - Detector/Subarray: NRS1/SUB2048\n",
      "\n"
     ]
    },
    {
     "name": "stderr",
     "output_type": "stream",
     "text": [
      "2024-05-02 10:10:35,885 - stpipe - WARNING - All-NaN slice encountered\n",
      "\n",
      "2024-05-02 10:10:44,263 - stpipe - WARNING - unclosed file <_io.TextIOWrapper name='/tmp/ray/session_2024-05-02_10-10-44_110061_218724/logs/gcs_server.out' mode='a' encoding='utf-8'>\n",
      "\n",
      "2024-05-02 10:10:44,270 - stpipe - WARNING - unclosed file <_io.TextIOWrapper name='/tmp/ray/session_2024-05-02_10-10-44_110061_218724/logs/gcs_server.err' mode='a' encoding='utf-8'>\n",
      "\n",
      "2024-05-02 10:10:45,448 - stpipe - WARNING - unclosed file <_io.TextIOWrapper name='/tmp/ray/session_2024-05-02_10-10-44_110061_218724/logs/monitor.out' mode='a' encoding='utf-8'>\n",
      "\n",
      "2024-05-02 10:10:45,452 - stpipe - WARNING - unclosed file <_io.TextIOWrapper name='/tmp/ray/session_2024-05-02_10-10-44_110061_218724/logs/monitor.err' mode='a' encoding='utf-8'>\n",
      "\n",
      "2024-05-02 10:10:46,811 - stpipe - WARNING - unclosed file <_io.TextIOWrapper name='/tmp/ray/session_2024-05-02_10-10-44_110061_218724/logs/dashboard.err' mode='a' encoding='utf-8'>\n",
      "\n",
      "2024-05-02 10:10:46,966 - stpipe - WARNING - unclosed file <_io.TextIOWrapper name='/tmp/ray/session_2024-05-02_10-10-44_110061_218724/logs/raylet.out' mode='a' encoding='utf-8'>\n",
      "\n",
      "2024-05-02 10:10:46,969 - stpipe - WARNING - unclosed file <_io.TextIOWrapper name='/tmp/ray/session_2024-05-02_10-10-44_110061_218724/logs/raylet.err' mode='a' encoding='utf-8'>\n",
      "\n",
      "2024-05-02 10:10:47,109 - stpipe - WARNING - unclosed file <_io.TextIOWrapper name='/tmp/ray/session_2024-05-02_10-10-44_110061_218724/logs/log_monitor.err' mode='a' encoding='utf-8'>\n",
      "\n",
      "2024-05-02 10:10:48,131\tINFO worker.py:1673 -- Started a local Ray instance.\n"
     ]
    },
    {
     "name": "stdout",
     "output_type": "stream",
     "text": [
      "\t >> Tracing will be done via the ray library:\n",
      "\t    - It should take about 0.07 hours to trace all 1139 integrations.\n",
      "\u001b[36m(pid=5638)\u001b[0m Warning: no zeus installation found. Will not be able to sample using sampler = 'zeus'.\n",
      "\t    - Done! Took 0.08 hours. Correcting outliers and smoothing traces...\n"
     ]
    },
    {
     "name": "stderr",
     "output_type": "stream",
     "text": [
      "100%|█████████████████████████████████████| 1139/1139 [00:00<00:00, 1362.36it/s]\n",
      "2024-05-02 10:15:25,286 - stpipe - WARNING - unclosed file <_io.BufferedWriter name='/ifs/jwst/wit/nirspec/nespinoza/pipeline_outputs/traces_8pix_nrs1.pkl'>\n",
      "\n"
     ]
    },
    {
     "name": "stdout",
     "output_type": "stream",
     "text": [
      "\t    - Done! Took 0.84 seconds. Saving...\n"
     ]
    },
    {
     "name": "stderr",
     "output_type": "stream",
     "text": [
      "2024-05-02 10:15:26,561 - stpipe - WARNING - All-NaN slice encountered\n",
      "\n"
     ]
    },
    {
     "name": "stdout",
     "output_type": "stream",
     "text": [
      "\t >> Performing spectral extraction...\n",
      "\t    - Performing 1/f supression via median-scaling...\n"
     ]
    },
    {
     "name": "stderr",
     "output_type": "stream",
     "text": [
      "100%|██████████████████████████████████████| 1139/1139 [00:06<00:00, 181.29it/s]\n"
     ]
    },
    {
     "name": "stdout",
     "output_type": "stream",
     "text": [
      "\t    - Performing spectral extraction via Simple Extraction...\n"
     ]
    },
    {
     "name": "stderr",
     "output_type": "stream",
     "text": [
      "100%|███████████████████████████████████████| 1139/1139 [01:20<00:00, 14.15it/s]\n",
      "2024-05-02 10:16:54,133 - stpipe.AssignWcsStep - INFO - AssignWcsStep instance created.\n",
      "2024-05-02 10:16:54,393 - stpipe.AssignWcsStep - INFO - Step AssignWcsStep running with args (<CubeModel(561, 32, 2048) from jw01118005001_04101_00001-seg001_nrs1_tsojumpstep_1_ramp_fitstep.fits>,).\n"
     ]
    },
    {
     "name": "stdout",
     "output_type": "stream",
     "text": [
      "\t    - Done! Extracting wavelength map...\n"
     ]
    },
    {
     "name": "stderr",
     "output_type": "stream",
     "text": [
      "2024-05-02 10:16:54,396 - stpipe.AssignWcsStep - INFO - Step AssignWcsStep parameters are:\n",
      "  pre_hooks: []\n",
      "  post_hooks: []\n",
      "  output_file: None\n",
      "  output_dir: None\n",
      "  output_ext: .fits\n",
      "  output_use_model: False\n",
      "  output_use_index: True\n",
      "  save_results: False\n",
      "  skip: False\n",
      "  suffix: None\n",
      "  search_output_file: True\n",
      "  input_dir: ''\n",
      "  sip_approx: True\n",
      "  sip_max_pix_error: 0.1\n",
      "  sip_degree: None\n",
      "  sip_max_inv_pix_error: 0.1\n",
      "  sip_inv_degree: None\n",
      "  sip_npoints: 12\n",
      "  slit_y_low: -0.55\n",
      "  slit_y_high: 0.55\n",
      "2024-05-02 10:16:54,595 - stpipe.AssignWcsStep - INFO - gwa_ytilt is 0.14491473099997404 deg\n",
      "2024-05-02 10:16:54,596 - stpipe.AssignWcsStep - INFO - gwa_xtilt is 0.3174072800001554 deg\n",
      "2024-05-02 10:16:54,596 - stpipe.AssignWcsStep - INFO - theta_y correction: 0.002344476274754786 deg\n",
      "2024-05-02 10:16:54,598 - stpipe.AssignWcsStep - INFO - theta_x correction: 0.00016770793767766654 deg\n",
      "2024-05-02 10:16:54,902 - stpipe.AssignWcsStep - INFO - Slits projected on detector NRS1: ['S1600A1']\n",
      "2024-05-02 10:16:54,903 - stpipe.AssignWcsStep - INFO - Computing WCS for 1 open slitlets\n",
      "2024-05-02 10:16:54,941 - stpipe.AssignWcsStep - INFO - gwa_ytilt is 0.14491473099997404 deg\n",
      "2024-05-02 10:16:54,941 - stpipe.AssignWcsStep - INFO - gwa_xtilt is 0.3174072800001554 deg\n",
      "2024-05-02 10:16:54,942 - stpipe.AssignWcsStep - INFO - theta_y correction: 0.002344476274754786 deg\n",
      "2024-05-02 10:16:54,943 - stpipe.AssignWcsStep - INFO - theta_x correction: 0.00016770793767766654 deg\n",
      "2024-05-02 10:16:54,962 - stpipe.AssignWcsStep - INFO - SPORDER= -1, wrange=[2.87e-06, 5.27e-06]\n",
      "2024-05-02 10:16:55,113 - stpipe.AssignWcsStep - INFO - Applied Barycentric velocity correction : 1.0000044206444265\n",
      "2024-05-02 10:16:55,162 - stpipe.AssignWcsStep - INFO - There are 0 open slits in quadrant 1\n",
      "2024-05-02 10:16:55,163 - stpipe.AssignWcsStep - INFO - There are 0 open slits in quadrant 2\n",
      "2024-05-02 10:16:55,164 - stpipe.AssignWcsStep - INFO - There are 0 open slits in quadrant 3\n",
      "2024-05-02 10:16:55,164 - stpipe.AssignWcsStep - INFO - There are 0 open slits in quadrant 4\n",
      "2024-05-02 10:16:55,165 - stpipe.AssignWcsStep - INFO - There are 1 open slits in quadrant 5\n",
      "2024-05-02 10:16:55,376 - stpipe.AssignWcsStep - INFO - Created a NIRSPEC nrs_brightobj pipeline with references {'distortion': None, 'filteroffset': None, 'specwcs': None, 'regions': None, 'wavelengthrange': '/grp/crds/cache/references/jwst/jwst_nirspec_wavelengthrange_0006.asdf', 'camera': '/grp/crds/cache/references/jwst/jwst_nirspec_camera_0007.asdf', 'collimator': '/grp/crds/cache/references/jwst/jwst_nirspec_collimator_0007.asdf', 'disperser': '/grp/crds/cache/references/jwst/jwst_nirspec_disperser_0056.asdf', 'fore': '/grp/crds/cache/references/jwst/jwst_nirspec_fore_0047.asdf', 'fpa': '/grp/crds/cache/references/jwst/jwst_nirspec_fpa_0008.asdf', 'msa': '/grp/crds/cache/references/jwst/jwst_nirspec_msa_0008.asdf', 'ote': '/grp/crds/cache/references/jwst/jwst_nirspec_ote_0010.asdf', 'ifupost': None, 'ifufore': None, 'ifuslicer': None}\n",
      "2024-05-02 10:16:55,921 - stpipe.AssignWcsStep - INFO - COMPLETED assign_wcs\n",
      "2024-05-02 10:16:55,926 - stpipe.AssignWcsStep - INFO - Results used CRDS context: jwst_1228.pmap\n",
      "2024-05-02 10:16:55,927 - stpipe.AssignWcsStep - INFO - Step AssignWcsStep done\n",
      "2024-05-02 10:16:56,271 - stpipe - WARNING - unclosed file <_io.BufferedWriter name='/ifs/jwst/wit/nirspec/nespinoza/pipeline_outputs/spectra_8pix_nrs1.pkl'>\n",
      "\n"
     ]
    },
    {
     "name": "stdout",
     "output_type": "stream",
     "text": [
      "\t    - Done! Took 89.67 seconds. Saving...\n",
      "\u001b[36m(pid=5640)\u001b[0m Warning: no zeus installation found. Will not be able to sample using sampler = 'zeus'.\u001b[32m [repeated 9x across cluster]\u001b[0m\n",
      "\t >> Processing through spectral tracing and extraction:\n",
      "\n",
      "\t    - TSO total duration: 6.0 hours\n",
      "\t    - Instrument/Mode: NIRSpec/G395H\n",
      "\n",
      "\t    - Detector/Subarray: NRS2/SUB2048\n",
      "\n"
     ]
    },
    {
     "name": "stderr",
     "output_type": "stream",
     "text": [
      "2024-05-02 10:16:58,572 - stpipe - WARNING - All-NaN slice encountered\n",
      "\n",
      "2024-05-02 10:17:06,706 - stpipe - WARNING - unclosed file <_io.TextIOWrapper name='/tmp/ray/session_2024-05-02_10-17-06_550716_218724/logs/gcs_server.out' mode='a' encoding='utf-8'>\n",
      "\n",
      "2024-05-02 10:17:06,711 - stpipe - WARNING - unclosed file <_io.TextIOWrapper name='/tmp/ray/session_2024-05-02_10-17-06_550716_218724/logs/gcs_server.err' mode='a' encoding='utf-8'>\n",
      "\n",
      "2024-05-02 10:17:07,897 - stpipe - WARNING - unclosed file <_io.TextIOWrapper name='/tmp/ray/session_2024-05-02_10-17-06_550716_218724/logs/monitor.out' mode='a' encoding='utf-8'>\n",
      "\n",
      "2024-05-02 10:17:07,900 - stpipe - WARNING - unclosed file <_io.TextIOWrapper name='/tmp/ray/session_2024-05-02_10-17-06_550716_218724/logs/monitor.err' mode='a' encoding='utf-8'>\n",
      "\n",
      "2024-05-02 10:17:09,468 - stpipe - WARNING - unclosed file <_io.TextIOWrapper name='/tmp/ray/session_2024-05-02_10-17-06_550716_218724/logs/dashboard.err' mode='a' encoding='utf-8'>\n",
      "\n",
      "2024-05-02 10:17:09,642 - stpipe - WARNING - unclosed file <_io.TextIOWrapper name='/tmp/ray/session_2024-05-02_10-17-06_550716_218724/logs/raylet.out' mode='a' encoding='utf-8'>\n",
      "\n",
      "2024-05-02 10:17:09,646 - stpipe - WARNING - unclosed file <_io.TextIOWrapper name='/tmp/ray/session_2024-05-02_10-17-06_550716_218724/logs/raylet.err' mode='a' encoding='utf-8'>\n",
      "\n",
      "2024-05-02 10:17:09,790 - stpipe - WARNING - unclosed file <_io.TextIOWrapper name='/tmp/ray/session_2024-05-02_10-17-06_550716_218724/logs/log_monitor.err' mode='a' encoding='utf-8'>\n",
      "\n",
      "2024-05-02 10:17:10,710\tINFO worker.py:1673 -- Started a local Ray instance.\n"
     ]
    },
    {
     "name": "stdout",
     "output_type": "stream",
     "text": [
      "\t >> Tracing will be done via the ray library:\n",
      "\t    - It should take about 0.09 hours to trace all 1139 integrations.\n",
      "\u001b[36m(pid=10164)\u001b[0m Warning: no zeus installation found. Will not be able to sample using sampler = 'zeus'.\n"
     ]
    }
   ],
   "source": [
    "for aperture in [4, 6, 8, 10, 12]:\n",
    "\n",
    "    all_outputs_nrs1[aperture] = ts.jwst.stage2(input_dictionary_nrs1, \n",
    "                                 nthreads = 10, \n",
    "                                 outputfolder = '/ifs/jwst/wit/nirspec/nespinoza/', \n",
    "                                 suffix = str(aperture)+'pix', \n",
    "                                 aperture_radius = aperture)\n",
    "\n",
    "    all_outputs_nrs2[aperture] = ts.jwst.stage2(input_dictionary_nrs2, \n",
    "                                 nthreads = 10, \n",
    "                                 outputfolder = '/ifs/jwst/wit/nirspec/nespinoza/', \n",
    "                                 suffix = str(aperture)+'pix', \n",
    "                                 aperture_radius = aperture)"
   ]
  },
  {
   "cell_type": "code",
   "execution_count": 40,
   "id": "36618d55-a5c5-4e4f-8105-8839e3ff8424",
   "metadata": {},
   "outputs": [
    {
     "data": {
      "text/plain": [
       "(array([240., 250., 260., 270., 280., 290., 300., 310., 320.]),\n",
       " [Text(0, 240.0, '240'),\n",
       "  Text(0, 250.0, '250'),\n",
       "  Text(0, 260.0, '260'),\n",
       "  Text(0, 270.0, '270'),\n",
       "  Text(0, 280.0, '280'),\n",
       "  Text(0, 290.0, '290'),\n",
       "  Text(0, 300.0, '300'),\n",
       "  Text(0, 310.0, '310'),\n",
       "  Text(0, 320.0, '320')])"
      ]
     },
     "execution_count": 40,
     "metadata": {},
     "output_type": "execute_result"
    },
    {
     "data": {
      "image/png": "[encoded data removed]",
      "text/plain": [
       "<Figure size 700x400 with 1 Axes>"
      ]
     },
     "metadata": {},
     "output_type": "display_data"
    }
   ],
   "source": [
    "apertures = []\n",
    "rms = []\n",
    "\n",
    "# Define integrations that are out-of-transit:\n",
    "idx = np.where((tsincestart_nrs1<2.5)|(tsincestart_nrs1>5))[0]\n",
    "\n",
    "for a in [2,4,6,8,10,12]:\n",
    "\n",
    "    wl = all_outputs_nrs1[a]['whitelight']\n",
    "    x, y = tsincestart_nrs1[idx], wl[idx]\n",
    "\n",
    "    coeff = np.polyfit(x,y,2)\n",
    "    y = y - np.polyval(coeff, x)\n",
    "\n",
    "    apertures.append(a)\n",
    "    rms.append(np.sqrt(np.var(y)))\n",
    "\n",
    "idx = np.argsort(np.array(apertures))\n",
    "\n",
    "apertures = np.array(apertures)[idx]\n",
    "rms = np.array(rms)[idx]\n",
    "\n",
    "plt.figure(figsize=(7,4))\n",
    "\n",
    "plt.plot(np.array(apertures), np.array(rms)*1e6, 'o-', color = 'cornflowerblue', mec = 'cornflowerblue', mfc = 'white', ms = 7)\n",
    "\n",
    "#plt.xlim(np.min(tsincestart), np.max(tsincestart))\n",
    "#plt.ylim(-2000,2000)\n",
    "plt.xlabel('Aperture (pixel)', fontsize = 16)\n",
    "plt.ylabel('NRS1 white-light RMS (ppm)', fontsize = 16)\n",
    "plt.xticks(fontsize = 14)\n",
    "plt.yticks(fontsize = 14)"
   ]
  },
  {
   "cell_type": "markdown",
   "id": "a040d8cd-4f63-4330-bc23-85c816f4557e",
   "metadata": {},
   "source": [
    "Repeat for NRS2:"
   ]
  },
  {
   "cell_type": "code",
   "execution_count": 41,
   "id": "db62362c-b4d9-42db-981b-1f09e3ecdf45",
   "metadata": {},
   "outputs": [
    {
     "data": {
      "text/plain": [
       "(array([440., 460., 480., 500., 520., 540., 560., 580., 600.]),\n",
       " [Text(0, 440.0, '440'),\n",
       "  Text(0, 460.0, '460'),\n",
       "  Text(0, 480.0, '480'),\n",
       "  Text(0, 500.0, '500'),\n",
       "  Text(0, 520.0, '520'),\n",
       "  Text(0, 540.0, '540'),\n",
       "  Text(0, 560.0, '560'),\n",
       "  Text(0, 580.0, '580'),\n",
       "  Text(0, 600.0, '600')])"
      ]
     },
     "execution_count": 41,
     "metadata": {},
     "output_type": "execute_result"
    },
    {
     "data": {
      "image/png": "[encoded data removed]",
      "text/plain": [
       "<Figure size 700x400 with 1 Axes>"
      ]
     },
     "metadata": {},
     "output_type": "display_data"
    }
   ],
   "source": [
    "apertures = []\n",
    "rms = []\n",
    "\n",
    "# Define integrations that are out-of-transit:\n",
    "idx = np.where((tsincestart_nrs2<2.5)|(tsincestart_nrs2>5))[0]\n",
    "\n",
    "for a in [2,4,6,8,10,12]:\n",
    "\n",
    "    wl = all_outputs_nrs2[a]['whitelight']\n",
    "    x, y = tsincestart_nrs2[idx], wl[idx]\n",
    "\n",
    "    coeff = np.polyfit(x,y,2)\n",
    "    y = y - np.polyval(coeff, x)\n",
    "\n",
    "    apertures.append(a)\n",
    "    rms.append(np.sqrt(np.var(y)))\n",
    "\n",
    "idx = np.argsort(np.array(apertures))\n",
    "\n",
    "apertures = np.array(apertures)[idx]\n",
    "rms = np.array(rms)[idx]\n",
    "\n",
    "plt.figure(figsize=(7,4))\n",
    "\n",
    "plt.plot(np.array(apertures), np.array(rms)*1e6, 'o-', color = 'tomato', mec = 'tomato', mfc = 'white', ms = 7)\n",
    "\n",
    "#plt.xlim(np.min(tsincestart), np.max(tsincestart))\n",
    "#plt.ylim(-2000,2000)\n",
    "plt.xlabel('Aperture (pixel)', fontsize = 16)\n",
    "plt.ylabel('NRS2 white-light RMS (ppm)', fontsize = 16)\n",
    "plt.xticks(fontsize = 14)\n",
    "plt.yticks(fontsize = 14)"
   ]
  }
 ],
 "metadata": {
  "kernelspec": {
   "display_name": "Python 3 (ipykernel)",
   "language": "python",
   "name": "python3"
  },
  "language_info": {
   "codemirror_mode": {
    "name": "ipython",
    "version": 3
   },
   "file_extension": ".py",
   "mimetype": "text/x-python",
   "name": "python",
   "nbconvert_exporter": "python",
   "pygments_lexer": "ipython3",
   "version": "3.9.16"
  }
 },
 "nbformat": 4,
 "nbformat_minor": 5
}
